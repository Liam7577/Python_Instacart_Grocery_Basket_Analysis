{
 "cells": [
  {
   "cell_type": "code",
   "execution_count": 3,
   "id": "b5710edf-ca9d-4cec-b917-9628e7ca419e",
   "metadata": {},
   "outputs": [],
   "source": [
    "import pandas as pd\n",
    "import numpy as np\n",
    "import os\n",
    "import matplotlib.pyplot as plt\n",
    "import seaborn as sns\n",
    "import scipy"
   ]
  },
  {
   "cell_type": "code",
   "execution_count": 4,
   "id": "5d2af272-f5a6-435a-a8f3-f318a2156f47",
   "metadata": {},
   "outputs": [],
   "source": [
    "path = '/Users/liamanderson/Desktop/Instacart Basket Analysis'"
   ]
  },
  {
   "cell_type": "code",
   "execution_count": 5,
   "id": "0494a559-0209-483d-8e7f-c4ebe11875d6",
   "metadata": {},
   "outputs": [],
   "source": [
    "df_all_high_activity = pd.read_pickle(os.path.join(path, '02 Data', 'Prepared Data', 'df_all_high_activity.pkl'))"
   ]
  },
  {
   "cell_type": "code",
   "execution_count": 6,
   "id": "82f1a247-6010-4750-974a-7267136624e0",
   "metadata": {},
   "outputs": [
    {
     "data": {
      "text/plain": [
       "4877"
      ]
     },
     "execution_count": 6,
     "metadata": {},
     "output_type": "execute_result"
    }
   ],
   "source": [
    "# 7.\n",
    "## aggregate each of the data profiles\n",
    "## First we will get rid of the outliers within the prices column\n",
    "## check to see how many outlers there are under prices\n",
    "\n",
    "df_all_high_activity[df_all_high_activity['prices'] >100].shape[0]"
   ]
  },
  {
   "cell_type": "code",
   "execution_count": 7,
   "id": "4c1031b6-3fec-4318-bc0b-f165cec5fbe8",
   "metadata": {},
   "outputs": [],
   "source": [
    "## get rid of all of the outliers\n",
    "\n",
    "df_cleaned = df_all_high_activity[df_all_high_activity['prices'] <= 100]"
   ]
  },
  {
   "cell_type": "code",
   "execution_count": 8,
   "id": "2bb7970e-fec9-43a5-8070-896f5258d314",
   "metadata": {},
   "outputs": [
    {
     "data": {
      "text/plain": [
       "Index(['product_id', 'product_name', 'aisle_id', 'department_id', 'prices',\n",
       "       'order_id', 'user_id', 'order_number', 'orders_day_of_week',\n",
       "       'order_hour_of_day', 'days_since_prior_order', 'add_to_cart_order',\n",
       "       'reordered', 'price_range_loc', 'busiest_day', 'busiest_days',\n",
       "       'busiest_period_of_day', 'loyalty_flag', 'spending_flag',\n",
       "       'order_frequency_flag', 'First Name', 'Surname', 'Gender', 'State',\n",
       "       'Age', 'date_joined', 'n_dependants', 'marital_status', 'income',\n",
       "       '_merge', 'region', 'max_order', 'exclusion_flag', 'age_group',\n",
       "       'income_group', 'dependants_flag'],\n",
       "      dtype='object')"
      ]
     },
     "execution_count": 8,
     "metadata": {},
     "output_type": "execute_result"
    }
   ],
   "source": [
    "df_cleaned.columns"
   ]
  },
  {
   "cell_type": "code",
   "execution_count": 9,
   "id": "7c49fc7d-9f61-4f93-a2ae-ab34c6e3e64b",
   "metadata": {},
   "outputs": [],
   "source": [
    "## We can use days since prior order for usage frequency but for expenditure we will have to create a new column with the price of the entire order\n",
    "\n",
    "total_orders_subset = df_cleaned.groupby(['user_id', 'age_group', 'income_group', 'dependants_flag', 'loyalty_flag', 'spending_flag', 'order_frequency_flag','region', 'order_number', 'days_since_prior_order'])['prices'].sum().reset_index()"
   ]
  },
  {
   "cell_type": "code",
   "execution_count": 10,
   "id": "783573d2-f262-4da1-8313-beb8bee0957e",
   "metadata": {},
   "outputs": [
    {
     "data": {
      "text/html": [
       "<div>\n",
       "<style scoped>\n",
       "    .dataframe tbody tr th:only-of-type {\n",
       "        vertical-align: middle;\n",
       "    }\n",
       "\n",
       "    .dataframe tbody tr th {\n",
       "        vertical-align: top;\n",
       "    }\n",
       "\n",
       "    .dataframe thead th {\n",
       "        text-align: right;\n",
       "    }\n",
       "</style>\n",
       "<table border=\"1\" class=\"dataframe\">\n",
       "  <thead>\n",
       "    <tr style=\"text-align: right;\">\n",
       "      <th></th>\n",
       "      <th>user_id</th>\n",
       "      <th>age_group</th>\n",
       "      <th>income_group</th>\n",
       "      <th>dependants_flag</th>\n",
       "      <th>loyalty_flag</th>\n",
       "      <th>spending_flag</th>\n",
       "      <th>order_frequency_flag</th>\n",
       "      <th>region</th>\n",
       "      <th>order_number</th>\n",
       "      <th>days_since_prior_order</th>\n",
       "      <th>prices</th>\n",
       "    </tr>\n",
       "  </thead>\n",
       "  <tbody>\n",
       "    <tr>\n",
       "      <th>0</th>\n",
       "      <td>1</td>\n",
       "      <td>young_adult</td>\n",
       "      <td>low_income</td>\n",
       "      <td>has dependants</td>\n",
       "      <td>New customer</td>\n",
       "      <td>Low spender</td>\n",
       "      <td>Non-frequent customer</td>\n",
       "      <td>south</td>\n",
       "      <td>2</td>\n",
       "      <td>15.0</td>\n",
       "      <td>35.4</td>\n",
       "    </tr>\n",
       "    <tr>\n",
       "      <th>1</th>\n",
       "      <td>1</td>\n",
       "      <td>young_adult</td>\n",
       "      <td>low_income</td>\n",
       "      <td>has dependants</td>\n",
       "      <td>New customer</td>\n",
       "      <td>Low spender</td>\n",
       "      <td>Non-frequent customer</td>\n",
       "      <td>south</td>\n",
       "      <td>3</td>\n",
       "      <td>21.0</td>\n",
       "      <td>28.2</td>\n",
       "    </tr>\n",
       "    <tr>\n",
       "      <th>2</th>\n",
       "      <td>1</td>\n",
       "      <td>young_adult</td>\n",
       "      <td>low_income</td>\n",
       "      <td>has dependants</td>\n",
       "      <td>New customer</td>\n",
       "      <td>Low spender</td>\n",
       "      <td>Non-frequent customer</td>\n",
       "      <td>south</td>\n",
       "      <td>4</td>\n",
       "      <td>29.0</td>\n",
       "      <td>26.0</td>\n",
       "    </tr>\n",
       "    <tr>\n",
       "      <th>3</th>\n",
       "      <td>1</td>\n",
       "      <td>young_adult</td>\n",
       "      <td>low_income</td>\n",
       "      <td>has dependants</td>\n",
       "      <td>New customer</td>\n",
       "      <td>Low spender</td>\n",
       "      <td>Non-frequent customer</td>\n",
       "      <td>south</td>\n",
       "      <td>5</td>\n",
       "      <td>28.0</td>\n",
       "      <td>57.0</td>\n",
       "    </tr>\n",
       "    <tr>\n",
       "      <th>4</th>\n",
       "      <td>1</td>\n",
       "      <td>young_adult</td>\n",
       "      <td>low_income</td>\n",
       "      <td>has dependants</td>\n",
       "      <td>New customer</td>\n",
       "      <td>Low spender</td>\n",
       "      <td>Non-frequent customer</td>\n",
       "      <td>south</td>\n",
       "      <td>6</td>\n",
       "      <td>19.0</td>\n",
       "      <td>25.0</td>\n",
       "    </tr>\n",
       "  </tbody>\n",
       "</table>\n",
       "</div>"
      ],
      "text/plain": [
       "  user_id    age_group income_group dependants_flag  loyalty_flag  \\\n",
       "0       1  young_adult   low_income  has dependants  New customer   \n",
       "1       1  young_adult   low_income  has dependants  New customer   \n",
       "2       1  young_adult   low_income  has dependants  New customer   \n",
       "3       1  young_adult   low_income  has dependants  New customer   \n",
       "4       1  young_adult   low_income  has dependants  New customer   \n",
       "\n",
       "  spending_flag   order_frequency_flag region  order_number  \\\n",
       "0   Low spender  Non-frequent customer  south             2   \n",
       "1   Low spender  Non-frequent customer  south             3   \n",
       "2   Low spender  Non-frequent customer  south             4   \n",
       "3   Low spender  Non-frequent customer  south             5   \n",
       "4   Low spender  Non-frequent customer  south             6   \n",
       "\n",
       "   days_since_prior_order  prices  \n",
       "0                    15.0    35.4  \n",
       "1                    21.0    28.2  \n",
       "2                    29.0    26.0  \n",
       "3                    28.0    57.0  \n",
       "4                    19.0    25.0  "
      ]
     },
     "execution_count": 10,
     "metadata": {},
     "output_type": "execute_result"
    }
   ],
   "source": [
    "total_orders_subset.head()"
   ]
  },
  {
   "cell_type": "code",
   "execution_count": 11,
   "id": "74f5498f-b088-469d-a4c8-45cb74e518ae",
   "metadata": {},
   "outputs": [],
   "source": [
    "## change the name of the prices column to total orders\n",
    "\n",
    "total_orders_subset.rename(columns = {'prices' : 'order_total'}, inplace = True)"
   ]
  },
  {
   "cell_type": "code",
   "execution_count": 12,
   "id": "1dba2de9-42b5-4a1e-b0d4-e634010facef",
   "metadata": {},
   "outputs": [
    {
     "data": {
      "text/plain": [
       "Index(['user_id', 'age_group', 'income_group', 'dependants_flag',\n",
       "       'loyalty_flag', 'spending_flag', 'order_frequency_flag', 'region',\n",
       "       'order_number', 'days_since_prior_order', 'order_total'],\n",
       "      dtype='object')"
      ]
     },
     "execution_count": 12,
     "metadata": {},
     "output_type": "execute_result"
    }
   ],
   "source": [
    "total_orders_subset.columns"
   ]
  },
  {
   "cell_type": "code",
   "execution_count": 13,
   "id": "bac24199-b1f1-42df-8782-fe173a34f128",
   "metadata": {},
   "outputs": [
    {
     "data": {
      "text/html": [
       "<div>\n",
       "<style scoped>\n",
       "    .dataframe tbody tr th:only-of-type {\n",
       "        vertical-align: middle;\n",
       "    }\n",
       "\n",
       "    .dataframe tbody tr th {\n",
       "        vertical-align: top;\n",
       "    }\n",
       "\n",
       "    .dataframe thead tr th {\n",
       "        text-align: left;\n",
       "    }\n",
       "\n",
       "    .dataframe thead tr:last-of-type th {\n",
       "        text-align: right;\n",
       "    }\n",
       "</style>\n",
       "<table border=\"1\" class=\"dataframe\">\n",
       "  <thead>\n",
       "    <tr>\n",
       "      <th></th>\n",
       "      <th colspan=\"3\" halign=\"left\">days_since_prior_order</th>\n",
       "    </tr>\n",
       "    <tr>\n",
       "      <th></th>\n",
       "      <th>mean</th>\n",
       "      <th>min</th>\n",
       "      <th>max</th>\n",
       "    </tr>\n",
       "    <tr>\n",
       "      <th>age_group</th>\n",
       "      <th></th>\n",
       "      <th></th>\n",
       "      <th></th>\n",
       "    </tr>\n",
       "  </thead>\n",
       "  <tbody>\n",
       "    <tr>\n",
       "      <th>middle_aged</th>\n",
       "      <td>10.819525</td>\n",
       "      <td>0.0</td>\n",
       "      <td>30.0</td>\n",
       "    </tr>\n",
       "    <tr>\n",
       "      <th>senior</th>\n",
       "      <td>10.800550</td>\n",
       "      <td>0.0</td>\n",
       "      <td>30.0</td>\n",
       "    </tr>\n",
       "    <tr>\n",
       "      <th>young_adult</th>\n",
       "      <td>10.811175</td>\n",
       "      <td>0.0</td>\n",
       "      <td>30.0</td>\n",
       "    </tr>\n",
       "  </tbody>\n",
       "</table>\n",
       "</div>"
      ],
      "text/plain": [
       "            days_since_prior_order           \n",
       "                              mean  min   max\n",
       "age_group                                    \n",
       "middle_aged              10.819525  0.0  30.0\n",
       "senior                   10.800550  0.0  30.0\n",
       "young_adult              10.811175  0.0  30.0"
      ]
     },
     "execution_count": 13,
     "metadata": {},
     "output_type": "execute_result"
    }
   ],
   "source": [
    "## aggregate for age_group\n",
    "\n",
    "df_cleaned.groupby('age_group').agg({'days_since_prior_order': ['mean', 'min', 'max']})"
   ]
  },
  {
   "cell_type": "code",
   "execution_count": 14,
   "id": "aa2435a9-9636-4b6e-8ff5-6d23c7bba3a8",
   "metadata": {},
   "outputs": [
    {
     "data": {
      "text/html": [
       "<div>\n",
       "<style scoped>\n",
       "    .dataframe tbody tr th:only-of-type {\n",
       "        vertical-align: middle;\n",
       "    }\n",
       "\n",
       "    .dataframe tbody tr th {\n",
       "        vertical-align: top;\n",
       "    }\n",
       "\n",
       "    .dataframe thead tr th {\n",
       "        text-align: left;\n",
       "    }\n",
       "\n",
       "    .dataframe thead tr:last-of-type th {\n",
       "        text-align: right;\n",
       "    }\n",
       "</style>\n",
       "<table border=\"1\" class=\"dataframe\">\n",
       "  <thead>\n",
       "    <tr>\n",
       "      <th></th>\n",
       "      <th colspan=\"3\" halign=\"left\">order_total</th>\n",
       "    </tr>\n",
       "    <tr>\n",
       "      <th></th>\n",
       "      <th>mean</th>\n",
       "      <th>min</th>\n",
       "      <th>max</th>\n",
       "    </tr>\n",
       "    <tr>\n",
       "      <th>age_group</th>\n",
       "      <th></th>\n",
       "      <th></th>\n",
       "      <th></th>\n",
       "    </tr>\n",
       "  </thead>\n",
       "  <tbody>\n",
       "    <tr>\n",
       "      <th>middle_aged</th>\n",
       "      <td>78.442839</td>\n",
       "      <td>1.0</td>\n",
       "      <td>1092.2</td>\n",
       "    </tr>\n",
       "    <tr>\n",
       "      <th>senior</th>\n",
       "      <td>78.449148</td>\n",
       "      <td>1.0</td>\n",
       "      <td>875.0</td>\n",
       "    </tr>\n",
       "    <tr>\n",
       "      <th>young_adult</th>\n",
       "      <td>79.091596</td>\n",
       "      <td>1.0</td>\n",
       "      <td>842.1</td>\n",
       "    </tr>\n",
       "  </tbody>\n",
       "</table>\n",
       "</div>"
      ],
      "text/plain": [
       "            order_total             \n",
       "                   mean  min     max\n",
       "age_group                           \n",
       "middle_aged   78.442839  1.0  1092.2\n",
       "senior        78.449148  1.0   875.0\n",
       "young_adult   79.091596  1.0   842.1"
      ]
     },
     "execution_count": 14,
     "metadata": {},
     "output_type": "execute_result"
    }
   ],
   "source": [
    "total_orders_subset.groupby('age_group').agg({'order_total': ['mean', 'min', 'max']})"
   ]
  },
  {
   "cell_type": "code",
   "execution_count": 15,
   "id": "5eca3cb9-7dc1-4f91-8231-93cacaef085b",
   "metadata": {},
   "outputs": [
    {
     "data": {
      "text/html": [
       "<div>\n",
       "<style scoped>\n",
       "    .dataframe tbody tr th:only-of-type {\n",
       "        vertical-align: middle;\n",
       "    }\n",
       "\n",
       "    .dataframe tbody tr th {\n",
       "        vertical-align: top;\n",
       "    }\n",
       "\n",
       "    .dataframe thead tr th {\n",
       "        text-align: left;\n",
       "    }\n",
       "\n",
       "    .dataframe thead tr:last-of-type th {\n",
       "        text-align: right;\n",
       "    }\n",
       "</style>\n",
       "<table border=\"1\" class=\"dataframe\">\n",
       "  <thead>\n",
       "    <tr>\n",
       "      <th></th>\n",
       "      <th colspan=\"3\" halign=\"left\">days_since_prior_order</th>\n",
       "    </tr>\n",
       "    <tr>\n",
       "      <th></th>\n",
       "      <th>mean</th>\n",
       "      <th>min</th>\n",
       "      <th>max</th>\n",
       "    </tr>\n",
       "    <tr>\n",
       "      <th>income_group</th>\n",
       "      <th></th>\n",
       "      <th></th>\n",
       "      <th></th>\n",
       "    </tr>\n",
       "  </thead>\n",
       "  <tbody>\n",
       "    <tr>\n",
       "      <th>high_income</th>\n",
       "      <td>10.769337</td>\n",
       "      <td>0.0</td>\n",
       "      <td>30.0</td>\n",
       "    </tr>\n",
       "    <tr>\n",
       "      <th>low_income</th>\n",
       "      <td>11.175808</td>\n",
       "      <td>0.0</td>\n",
       "      <td>30.0</td>\n",
       "    </tr>\n",
       "    <tr>\n",
       "      <th>middle_income</th>\n",
       "      <td>10.762138</td>\n",
       "      <td>0.0</td>\n",
       "      <td>30.0</td>\n",
       "    </tr>\n",
       "  </tbody>\n",
       "</table>\n",
       "</div>"
      ],
      "text/plain": [
       "              days_since_prior_order           \n",
       "                                mean  min   max\n",
       "income_group                                   \n",
       "high_income                10.769337  0.0  30.0\n",
       "low_income                 11.175808  0.0  30.0\n",
       "middle_income              10.762138  0.0  30.0"
      ]
     },
     "execution_count": 15,
     "metadata": {},
     "output_type": "execute_result"
    }
   ],
   "source": [
    "## aggregate for income_group\n",
    "\n",
    "df_cleaned.groupby('income_group').agg({'days_since_prior_order': ['mean', 'min', 'max']})"
   ]
  },
  {
   "cell_type": "code",
   "execution_count": 16,
   "id": "67da4e37-694a-4090-bcee-451b78d50b9c",
   "metadata": {},
   "outputs": [
    {
     "data": {
      "text/html": [
       "<div>\n",
       "<style scoped>\n",
       "    .dataframe tbody tr th:only-of-type {\n",
       "        vertical-align: middle;\n",
       "    }\n",
       "\n",
       "    .dataframe tbody tr th {\n",
       "        vertical-align: top;\n",
       "    }\n",
       "\n",
       "    .dataframe thead tr th {\n",
       "        text-align: left;\n",
       "    }\n",
       "\n",
       "    .dataframe thead tr:last-of-type th {\n",
       "        text-align: right;\n",
       "    }\n",
       "</style>\n",
       "<table border=\"1\" class=\"dataframe\">\n",
       "  <thead>\n",
       "    <tr>\n",
       "      <th></th>\n",
       "      <th colspan=\"3\" halign=\"left\">order_total</th>\n",
       "    </tr>\n",
       "    <tr>\n",
       "      <th></th>\n",
       "      <th>mean</th>\n",
       "      <th>min</th>\n",
       "      <th>max</th>\n",
       "    </tr>\n",
       "    <tr>\n",
       "      <th>income_group</th>\n",
       "      <th></th>\n",
       "      <th></th>\n",
       "      <th></th>\n",
       "    </tr>\n",
       "  </thead>\n",
       "  <tbody>\n",
       "    <tr>\n",
       "      <th>high_income</th>\n",
       "      <td>83.757277</td>\n",
       "      <td>1.0</td>\n",
       "      <td>1092.2</td>\n",
       "    </tr>\n",
       "    <tr>\n",
       "      <th>low_income</th>\n",
       "      <td>52.673028</td>\n",
       "      <td>1.0</td>\n",
       "      <td>875.0</td>\n",
       "    </tr>\n",
       "    <tr>\n",
       "      <th>middle_income</th>\n",
       "      <td>81.929747</td>\n",
       "      <td>1.0</td>\n",
       "      <td>852.5</td>\n",
       "    </tr>\n",
       "  </tbody>\n",
       "</table>\n",
       "</div>"
      ],
      "text/plain": [
       "              order_total             \n",
       "                     mean  min     max\n",
       "income_group                          \n",
       "high_income     83.757277  1.0  1092.2\n",
       "low_income      52.673028  1.0   875.0\n",
       "middle_income   81.929747  1.0   852.5"
      ]
     },
     "execution_count": 16,
     "metadata": {},
     "output_type": "execute_result"
    }
   ],
   "source": [
    "total_orders_subset.groupby('income_group').agg({'order_total': ['mean', 'min', 'max']})"
   ]
  },
  {
   "cell_type": "code",
   "execution_count": 17,
   "id": "f08a5929-752f-48cd-b743-c0c650e65479",
   "metadata": {},
   "outputs": [
    {
     "data": {
      "text/html": [
       "<div>\n",
       "<style scoped>\n",
       "    .dataframe tbody tr th:only-of-type {\n",
       "        vertical-align: middle;\n",
       "    }\n",
       "\n",
       "    .dataframe tbody tr th {\n",
       "        vertical-align: top;\n",
       "    }\n",
       "\n",
       "    .dataframe thead tr th {\n",
       "        text-align: left;\n",
       "    }\n",
       "\n",
       "    .dataframe thead tr:last-of-type th {\n",
       "        text-align: right;\n",
       "    }\n",
       "</style>\n",
       "<table border=\"1\" class=\"dataframe\">\n",
       "  <thead>\n",
       "    <tr>\n",
       "      <th></th>\n",
       "      <th colspan=\"3\" halign=\"left\">days_since_prior_order</th>\n",
       "    </tr>\n",
       "    <tr>\n",
       "      <th></th>\n",
       "      <th>mean</th>\n",
       "      <th>min</th>\n",
       "      <th>max</th>\n",
       "    </tr>\n",
       "    <tr>\n",
       "      <th>dependants_flag</th>\n",
       "      <th></th>\n",
       "      <th></th>\n",
       "      <th></th>\n",
       "    </tr>\n",
       "  </thead>\n",
       "  <tbody>\n",
       "    <tr>\n",
       "      <th>has dependants</th>\n",
       "      <td>10.816265</td>\n",
       "      <td>0.0</td>\n",
       "      <td>30.0</td>\n",
       "    </tr>\n",
       "    <tr>\n",
       "      <th>no dependants</th>\n",
       "      <td>10.791879</td>\n",
       "      <td>0.0</td>\n",
       "      <td>30.0</td>\n",
       "    </tr>\n",
       "  </tbody>\n",
       "</table>\n",
       "</div>"
      ],
      "text/plain": [
       "                days_since_prior_order           \n",
       "                                  mean  min   max\n",
       "dependants_flag                                  \n",
       "has dependants               10.816265  0.0  30.0\n",
       "no dependants                10.791879  0.0  30.0"
      ]
     },
     "execution_count": 17,
     "metadata": {},
     "output_type": "execute_result"
    }
   ],
   "source": [
    "## aggregate for number of dependants\n",
    "\n",
    "df_cleaned.groupby('dependants_flag').agg({'days_since_prior_order': ['mean', 'min', 'max']})"
   ]
  },
  {
   "cell_type": "code",
   "execution_count": 18,
   "id": "eba61633-247e-4ab1-88c0-a8879b5e89bc",
   "metadata": {},
   "outputs": [
    {
     "data": {
      "text/html": [
       "<div>\n",
       "<style scoped>\n",
       "    .dataframe tbody tr th:only-of-type {\n",
       "        vertical-align: middle;\n",
       "    }\n",
       "\n",
       "    .dataframe tbody tr th {\n",
       "        vertical-align: top;\n",
       "    }\n",
       "\n",
       "    .dataframe thead tr th {\n",
       "        text-align: left;\n",
       "    }\n",
       "\n",
       "    .dataframe thead tr:last-of-type th {\n",
       "        text-align: right;\n",
       "    }\n",
       "</style>\n",
       "<table border=\"1\" class=\"dataframe\">\n",
       "  <thead>\n",
       "    <tr>\n",
       "      <th></th>\n",
       "      <th colspan=\"3\" halign=\"left\">order_total</th>\n",
       "    </tr>\n",
       "    <tr>\n",
       "      <th></th>\n",
       "      <th>mean</th>\n",
       "      <th>min</th>\n",
       "      <th>max</th>\n",
       "    </tr>\n",
       "    <tr>\n",
       "      <th>dependants_flag</th>\n",
       "      <th></th>\n",
       "      <th></th>\n",
       "      <th></th>\n",
       "    </tr>\n",
       "  </thead>\n",
       "  <tbody>\n",
       "    <tr>\n",
       "      <th>has dependants</th>\n",
       "      <td>78.728823</td>\n",
       "      <td>1.0</td>\n",
       "      <td>1092.2</td>\n",
       "    </tr>\n",
       "    <tr>\n",
       "      <th>no dependants</th>\n",
       "      <td>78.482647</td>\n",
       "      <td>1.0</td>\n",
       "      <td>875.0</td>\n",
       "    </tr>\n",
       "  </tbody>\n",
       "</table>\n",
       "</div>"
      ],
      "text/plain": [
       "                order_total             \n",
       "                       mean  min     max\n",
       "dependants_flag                         \n",
       "has dependants    78.728823  1.0  1092.2\n",
       "no dependants     78.482647  1.0   875.0"
      ]
     },
     "execution_count": 18,
     "metadata": {},
     "output_type": "execute_result"
    }
   ],
   "source": [
    "total_orders_subset.groupby('dependants_flag').agg({'order_total': ['mean', 'min', 'max']})"
   ]
  },
  {
   "cell_type": "code",
   "execution_count": 19,
   "id": "601d0b01-e810-44fa-be9f-e509312d287e",
   "metadata": {},
   "outputs": [],
   "source": [
    "# 8.\n",
    "## We already have a column with data regarding region but we need to import and merge the departments dataset with the df_cleaned data set\n",
    "## First import department data set\n",
    "\n",
    "df_department = pd.read_csv(os.path.join(path, '02 Data', 'Prepared Data', 'departments_wrangled.csv'))"
   ]
  },
  {
   "cell_type": "code",
   "execution_count": 20,
   "id": "477234f7-4103-4ed4-af8f-ab101f33f6d5",
   "metadata": {},
   "outputs": [
    {
     "data": {
      "text/html": [
       "<div>\n",
       "<style scoped>\n",
       "    .dataframe tbody tr th:only-of-type {\n",
       "        vertical-align: middle;\n",
       "    }\n",
       "\n",
       "    .dataframe tbody tr th {\n",
       "        vertical-align: top;\n",
       "    }\n",
       "\n",
       "    .dataframe thead th {\n",
       "        text-align: right;\n",
       "    }\n",
       "</style>\n",
       "<table border=\"1\" class=\"dataframe\">\n",
       "  <thead>\n",
       "    <tr style=\"text-align: right;\">\n",
       "      <th></th>\n",
       "      <th>Unnamed: 0</th>\n",
       "      <th>department</th>\n",
       "    </tr>\n",
       "  </thead>\n",
       "  <tbody>\n",
       "    <tr>\n",
       "      <th>0</th>\n",
       "      <td>1</td>\n",
       "      <td>frozen</td>\n",
       "    </tr>\n",
       "    <tr>\n",
       "      <th>1</th>\n",
       "      <td>2</td>\n",
       "      <td>other</td>\n",
       "    </tr>\n",
       "    <tr>\n",
       "      <th>2</th>\n",
       "      <td>3</td>\n",
       "      <td>bakery</td>\n",
       "    </tr>\n",
       "    <tr>\n",
       "      <th>3</th>\n",
       "      <td>4</td>\n",
       "      <td>produce</td>\n",
       "    </tr>\n",
       "    <tr>\n",
       "      <th>4</th>\n",
       "      <td>5</td>\n",
       "      <td>alcohol</td>\n",
       "    </tr>\n",
       "  </tbody>\n",
       "</table>\n",
       "</div>"
      ],
      "text/plain": [
       "   Unnamed: 0 department\n",
       "0           1     frozen\n",
       "1           2      other\n",
       "2           3     bakery\n",
       "3           4    produce\n",
       "4           5    alcohol"
      ]
     },
     "execution_count": 20,
     "metadata": {},
     "output_type": "execute_result"
    }
   ],
   "source": [
    "df_department.head()"
   ]
  },
  {
   "cell_type": "code",
   "execution_count": 21,
   "id": "40fd319a-9e7a-469b-9aa0-0fbdd1b5409c",
   "metadata": {},
   "outputs": [],
   "source": [
    "## rename column to department_id\n",
    "\n",
    "df_department.rename(columns={'Unnamed: 0':'department_id'},inplace=True)"
   ]
  },
  {
   "cell_type": "code",
   "execution_count": 22,
   "id": "b4dfb2eb-6c9f-417a-a0f2-e058c7cf4ea9",
   "metadata": {},
   "outputs": [
    {
     "data": {
      "text/html": [
       "<div>\n",
       "<style scoped>\n",
       "    .dataframe tbody tr th:only-of-type {\n",
       "        vertical-align: middle;\n",
       "    }\n",
       "\n",
       "    .dataframe tbody tr th {\n",
       "        vertical-align: top;\n",
       "    }\n",
       "\n",
       "    .dataframe thead th {\n",
       "        text-align: right;\n",
       "    }\n",
       "</style>\n",
       "<table border=\"1\" class=\"dataframe\">\n",
       "  <thead>\n",
       "    <tr style=\"text-align: right;\">\n",
       "      <th></th>\n",
       "      <th>department_id</th>\n",
       "      <th>department</th>\n",
       "    </tr>\n",
       "  </thead>\n",
       "  <tbody>\n",
       "    <tr>\n",
       "      <th>0</th>\n",
       "      <td>1</td>\n",
       "      <td>frozen</td>\n",
       "    </tr>\n",
       "    <tr>\n",
       "      <th>1</th>\n",
       "      <td>2</td>\n",
       "      <td>other</td>\n",
       "    </tr>\n",
       "    <tr>\n",
       "      <th>2</th>\n",
       "      <td>3</td>\n",
       "      <td>bakery</td>\n",
       "    </tr>\n",
       "    <tr>\n",
       "      <th>3</th>\n",
       "      <td>4</td>\n",
       "      <td>produce</td>\n",
       "    </tr>\n",
       "    <tr>\n",
       "      <th>4</th>\n",
       "      <td>5</td>\n",
       "      <td>alcohol</td>\n",
       "    </tr>\n",
       "  </tbody>\n",
       "</table>\n",
       "</div>"
      ],
      "text/plain": [
       "   department_id department\n",
       "0              1     frozen\n",
       "1              2      other\n",
       "2              3     bakery\n",
       "3              4    produce\n",
       "4              5    alcohol"
      ]
     },
     "execution_count": 22,
     "metadata": {},
     "output_type": "execute_result"
    }
   ],
   "source": [
    "df_department.head()"
   ]
  },
  {
   "cell_type": "code",
   "execution_count": 23,
   "id": "3d58c5a3-9641-4456-ba4a-ea70ecdde941",
   "metadata": {},
   "outputs": [
    {
     "data": {
      "text/html": [
       "<div>\n",
       "<style scoped>\n",
       "    .dataframe tbody tr th:only-of-type {\n",
       "        vertical-align: middle;\n",
       "    }\n",
       "\n",
       "    .dataframe tbody tr th {\n",
       "        vertical-align: top;\n",
       "    }\n",
       "\n",
       "    .dataframe thead th {\n",
       "        text-align: right;\n",
       "    }\n",
       "</style>\n",
       "<table border=\"1\" class=\"dataframe\">\n",
       "  <thead>\n",
       "    <tr style=\"text-align: right;\">\n",
       "      <th></th>\n",
       "      <th>product_id</th>\n",
       "      <th>product_name</th>\n",
       "      <th>aisle_id</th>\n",
       "      <th>department_id</th>\n",
       "      <th>prices</th>\n",
       "      <th>order_id</th>\n",
       "      <th>user_id</th>\n",
       "      <th>order_number</th>\n",
       "      <th>orders_day_of_week</th>\n",
       "      <th>order_hour_of_day</th>\n",
       "      <th>...</th>\n",
       "      <th>n_dependants</th>\n",
       "      <th>marital_status</th>\n",
       "      <th>income</th>\n",
       "      <th>_merge</th>\n",
       "      <th>region</th>\n",
       "      <th>max_order</th>\n",
       "      <th>exclusion_flag</th>\n",
       "      <th>age_group</th>\n",
       "      <th>income_group</th>\n",
       "      <th>dependants_flag</th>\n",
       "    </tr>\n",
       "  </thead>\n",
       "  <tbody>\n",
       "    <tr>\n",
       "      <th>0</th>\n",
       "      <td>1</td>\n",
       "      <td>Chocolate Sandwich Cookies</td>\n",
       "      <td>61</td>\n",
       "      <td>19</td>\n",
       "      <td>5.8</td>\n",
       "      <td>3139998</td>\n",
       "      <td>138</td>\n",
       "      <td>28</td>\n",
       "      <td>6</td>\n",
       "      <td>11</td>\n",
       "      <td>...</td>\n",
       "      <td>1</td>\n",
       "      <td>married</td>\n",
       "      <td>49620</td>\n",
       "      <td>both</td>\n",
       "      <td>midwest</td>\n",
       "      <td>32</td>\n",
       "      <td>include</td>\n",
       "      <td>senior</td>\n",
       "      <td>low_income</td>\n",
       "      <td>has dependants</td>\n",
       "    </tr>\n",
       "    <tr>\n",
       "      <th>1</th>\n",
       "      <td>1</td>\n",
       "      <td>Chocolate Sandwich Cookies</td>\n",
       "      <td>61</td>\n",
       "      <td>19</td>\n",
       "      <td>5.8</td>\n",
       "      <td>1977647</td>\n",
       "      <td>138</td>\n",
       "      <td>30</td>\n",
       "      <td>6</td>\n",
       "      <td>17</td>\n",
       "      <td>...</td>\n",
       "      <td>1</td>\n",
       "      <td>married</td>\n",
       "      <td>49620</td>\n",
       "      <td>both</td>\n",
       "      <td>midwest</td>\n",
       "      <td>32</td>\n",
       "      <td>include</td>\n",
       "      <td>senior</td>\n",
       "      <td>low_income</td>\n",
       "      <td>has dependants</td>\n",
       "    </tr>\n",
       "    <tr>\n",
       "      <th>2</th>\n",
       "      <td>1</td>\n",
       "      <td>Chocolate Sandwich Cookies</td>\n",
       "      <td>61</td>\n",
       "      <td>19</td>\n",
       "      <td>5.8</td>\n",
       "      <td>389851</td>\n",
       "      <td>709</td>\n",
       "      <td>2</td>\n",
       "      <td>0</td>\n",
       "      <td>21</td>\n",
       "      <td>...</td>\n",
       "      <td>2</td>\n",
       "      <td>married</td>\n",
       "      <td>158302</td>\n",
       "      <td>both</td>\n",
       "      <td>northeast</td>\n",
       "      <td>5</td>\n",
       "      <td>include</td>\n",
       "      <td>senior</td>\n",
       "      <td>high_income</td>\n",
       "      <td>has dependants</td>\n",
       "    </tr>\n",
       "    <tr>\n",
       "      <th>5</th>\n",
       "      <td>1</td>\n",
       "      <td>Chocolate Sandwich Cookies</td>\n",
       "      <td>61</td>\n",
       "      <td>19</td>\n",
       "      <td>5.8</td>\n",
       "      <td>1701441</td>\n",
       "      <td>777</td>\n",
       "      <td>16</td>\n",
       "      <td>1</td>\n",
       "      <td>7</td>\n",
       "      <td>...</td>\n",
       "      <td>2</td>\n",
       "      <td>married</td>\n",
       "      <td>57797</td>\n",
       "      <td>both</td>\n",
       "      <td>west</td>\n",
       "      <td>26</td>\n",
       "      <td>include</td>\n",
       "      <td>middle_aged</td>\n",
       "      <td>middle_income</td>\n",
       "      <td>has dependants</td>\n",
       "    </tr>\n",
       "    <tr>\n",
       "      <th>6</th>\n",
       "      <td>1</td>\n",
       "      <td>Chocolate Sandwich Cookies</td>\n",
       "      <td>61</td>\n",
       "      <td>19</td>\n",
       "      <td>5.8</td>\n",
       "      <td>1871483</td>\n",
       "      <td>825</td>\n",
       "      <td>3</td>\n",
       "      <td>2</td>\n",
       "      <td>14</td>\n",
       "      <td>...</td>\n",
       "      <td>3</td>\n",
       "      <td>living with parents and siblings</td>\n",
       "      <td>34171</td>\n",
       "      <td>both</td>\n",
       "      <td>south</td>\n",
       "      <td>9</td>\n",
       "      <td>include</td>\n",
       "      <td>young_adult</td>\n",
       "      <td>low_income</td>\n",
       "      <td>has dependants</td>\n",
       "    </tr>\n",
       "  </tbody>\n",
       "</table>\n",
       "<p>5 rows × 36 columns</p>\n",
       "</div>"
      ],
      "text/plain": [
       "   product_id                product_name  aisle_id  department_id  prices  \\\n",
       "0           1  Chocolate Sandwich Cookies        61             19     5.8   \n",
       "1           1  Chocolate Sandwich Cookies        61             19     5.8   \n",
       "2           1  Chocolate Sandwich Cookies        61             19     5.8   \n",
       "5           1  Chocolate Sandwich Cookies        61             19     5.8   \n",
       "6           1  Chocolate Sandwich Cookies        61             19     5.8   \n",
       "\n",
       "   order_id user_id  order_number  orders_day_of_week  order_hour_of_day  ...  \\\n",
       "0   3139998     138            28                   6                 11  ...   \n",
       "1   1977647     138            30                   6                 17  ...   \n",
       "2    389851     709             2                   0                 21  ...   \n",
       "5   1701441     777            16                   1                  7  ...   \n",
       "6   1871483     825             3                   2                 14  ...   \n",
       "\n",
       "   n_dependants                    marital_status  income _merge     region  \\\n",
       "0             1                           married   49620   both    midwest   \n",
       "1             1                           married   49620   both    midwest   \n",
       "2             2                           married  158302   both  northeast   \n",
       "5             2                           married   57797   both       west   \n",
       "6             3  living with parents and siblings   34171   both      south   \n",
       "\n",
       "  max_order exclusion_flag    age_group   income_group dependants_flag  \n",
       "0        32        include       senior     low_income  has dependants  \n",
       "1        32        include       senior     low_income  has dependants  \n",
       "2         5        include       senior    high_income  has dependants  \n",
       "5        26        include  middle_aged  middle_income  has dependants  \n",
       "6         9        include  young_adult     low_income  has dependants  \n",
       "\n",
       "[5 rows x 36 columns]"
      ]
     },
     "execution_count": 23,
     "metadata": {},
     "output_type": "execute_result"
    }
   ],
   "source": [
    "df_cleaned.head()"
   ]
  },
  {
   "cell_type": "code",
   "execution_count": 24,
   "id": "97fe33b6-2d7b-4bd9-8627-2a4edcd9cf5a",
   "metadata": {},
   "outputs": [
    {
     "data": {
      "text/plain": [
       "department_id     int64\n",
       "department       object\n",
       "dtype: object"
      ]
     },
     "execution_count": 24,
     "metadata": {},
     "output_type": "execute_result"
    }
   ],
   "source": [
    "## check data types\n",
    "\n",
    "df_department.dtypes"
   ]
  },
  {
   "cell_type": "code",
   "execution_count": 25,
   "id": "f7281f01-eedf-4399-a262-319f60661d25",
   "metadata": {},
   "outputs": [
    {
     "data": {
      "text/plain": [
       "dtype('int64')"
      ]
     },
     "execution_count": 25,
     "metadata": {},
     "output_type": "execute_result"
    }
   ],
   "source": [
    "df_cleaned['department_id'].dtypes"
   ]
  },
  {
   "cell_type": "code",
   "execution_count": 26,
   "id": "9b2d0b6e-2728-4073-9308-6229a4e15ce5",
   "metadata": {},
   "outputs": [
    {
     "data": {
      "text/plain": [
       "0    Mid-range product\n",
       "1    Mid-range product\n",
       "2    Mid-range product\n",
       "5    Mid-range product\n",
       "6    Mid-range product\n",
       "Name: price_range_loc, dtype: object"
      ]
     },
     "execution_count": 26,
     "metadata": {},
     "output_type": "execute_result"
    }
   ],
   "source": [
    "df_cleaned['price_range_loc'].head()"
   ]
  },
  {
   "cell_type": "code",
   "execution_count": 27,
   "id": "37c365dd-277e-4f59-9a13-3098d3992eb9",
   "metadata": {},
   "outputs": [
    {
     "data": {
      "text/plain": [
       "Index(['product_id', 'product_name', 'aisle_id', 'department_id', 'prices',\n",
       "       'order_id', 'user_id', 'order_number', 'orders_day_of_week',\n",
       "       'order_hour_of_day', 'days_since_prior_order', 'add_to_cart_order',\n",
       "       'reordered', 'price_range_loc', 'busiest_day', 'busiest_days',\n",
       "       'busiest_period_of_day', 'loyalty_flag', 'spending_flag',\n",
       "       'order_frequency_flag', 'First Name', 'Surname', 'Gender', 'State',\n",
       "       'Age', 'date_joined', 'n_dependants', 'marital_status', 'income',\n",
       "       '_merge', 'region', 'max_order', 'exclusion_flag', 'age_group',\n",
       "       'income_group', 'dependants_flag'],\n",
       "      dtype='object')"
      ]
     },
     "execution_count": 27,
     "metadata": {},
     "output_type": "execute_result"
    }
   ],
   "source": [
    "## data set is to large for me to be able to merge so we will get rid of some unecessary columns\n",
    "\n",
    "df_cleaned.columns"
   ]
  },
  {
   "cell_type": "code",
   "execution_count": 28,
   "id": "dfae70ad-b9d0-4562-9870-23fd483d9061",
   "metadata": {},
   "outputs": [],
   "source": [
    "df = df_cleaned.drop(['aisle_id', 'add_to_cart_order','First Name','Surname', '_merge', 'max_order'], axis=1)"
   ]
  },
  {
   "cell_type": "code",
   "execution_count": 29,
   "id": "bd4acf57-4d31-4210-925d-823989d3640f",
   "metadata": {},
   "outputs": [],
   "source": [
    "df.to_pickle(os.path.join(path,'02 Data', 'Prepared Data', 'df.4.10(part1 Q8).pkl'))"
   ]
  },
  {
   "cell_type": "code",
   "execution_count": 30,
   "id": "6e8eb6c4-7864-451d-acc0-97f3fb03a105",
   "metadata": {},
   "outputs": [],
   "source": [
    "df_department.to_pickle(os.path.join(path,'02 Data', 'Prepared Data', 'df_departments.pkl'))"
   ]
  },
  {
   "cell_type": "code",
   "execution_count": 31,
   "id": "e9851a61-8b0a-4c29-bf61-cfcfb3cca36a",
   "metadata": {},
   "outputs": [],
   "source": [
    "total_orders_subset.to_pickle(os.path.join(path,'02 Data', 'Prepared Data', 'total_orders_subset.pkl'))"
   ]
  },
  {
   "cell_type": "code",
   "execution_count": null,
   "id": "3626df31-6afb-4854-a176-a2659883ed17",
   "metadata": {},
   "outputs": [],
   "source": []
  },
  {
   "cell_type": "code",
   "execution_count": null,
   "id": "e3b8ad93-1a80-4e26-bcb2-90faa07f320a",
   "metadata": {},
   "outputs": [],
   "source": []
  },
  {
   "cell_type": "code",
   "execution_count": null,
   "id": "411fa5dc-27ab-4340-bdb5-47fa643ee48d",
   "metadata": {},
   "outputs": [],
   "source": []
  },
  {
   "cell_type": "code",
   "execution_count": null,
   "id": "ed73b60f-ae8c-43d3-8948-70d6092d8863",
   "metadata": {},
   "outputs": [],
   "source": []
  },
  {
   "cell_type": "code",
   "execution_count": null,
   "id": "a63e6e31-b9ad-4dc0-82b7-9edfc5326071",
   "metadata": {},
   "outputs": [],
   "source": []
  },
  {
   "cell_type": "code",
   "execution_count": null,
   "id": "45e2a63f-b2ed-4a5b-bee4-98f19d297546",
   "metadata": {},
   "outputs": [],
   "source": []
  }
 ],
 "metadata": {
  "kernelspec": {
   "display_name": "Python 3 (ipykernel)",
   "language": "python",
   "name": "python3"
  },
  "language_info": {
   "codemirror_mode": {
    "name": "ipython",
    "version": 3
   },
   "file_extension": ".py",
   "mimetype": "text/x-python",
   "name": "python",
   "nbconvert_exporter": "python",
   "pygments_lexer": "ipython3",
   "version": "3.11.7"
  }
 },
 "nbformat": 4,
 "nbformat_minor": 5
}
