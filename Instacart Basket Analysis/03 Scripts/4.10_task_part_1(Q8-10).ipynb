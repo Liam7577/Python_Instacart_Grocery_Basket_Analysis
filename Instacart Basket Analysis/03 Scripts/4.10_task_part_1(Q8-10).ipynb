{
 "cells": [
  {
   "cell_type": "code",
   "execution_count": 3,
   "id": "c4c46589-d5a9-4f91-a5e7-839dfd9ee734",
   "metadata": {},
   "outputs": [],
   "source": [
    "import pandas as pd\n",
    "import numpy as np\n",
    "import os\n",
    "import matplotlib.pyplot as plt\n",
    "import seaborn as sns\n",
    "import scipy"
   ]
  },
  {
   "cell_type": "code",
   "execution_count": 4,
   "id": "55a7e555-7d76-40f7-b9a3-4c0a00355f7e",
   "metadata": {},
   "outputs": [],
   "source": [
    "path = '/Users/liamanderson/Desktop/Instacart Basket Analysis'"
   ]
  },
  {
   "cell_type": "code",
   "execution_count": 5,
   "id": "6367cabf-ac7a-4353-8524-84b85b60b0a7",
   "metadata": {},
   "outputs": [],
   "source": [
    "df = pd.read_pickle(os.path.join(path, '02 Data', 'Prepared Data', 'df.4.10(part1 Q8).pkl'))"
   ]
  },
  {
   "cell_type": "code",
   "execution_count": 6,
   "id": "aa0653a7-ffd4-4abc-aa9e-b0b182c0e8d7",
   "metadata": {},
   "outputs": [],
   "source": [
    "df_department = pd.read_pickle(os.path.join(path, '02 Data', 'Prepared Data', 'df_departments.pkl'))"
   ]
  },
  {
   "cell_type": "code",
   "execution_count": 7,
   "id": "eb44fbf9-a533-4da4-a4db-c68486ee5fd5",
   "metadata": {},
   "outputs": [],
   "source": [
    "total_orders = pd.read_pickle(os.path.join(path, '02 Data', 'Prepared Data', 'total_orders_subset.pkl'))"
   ]
  },
  {
   "cell_type": "code",
   "execution_count": 8,
   "id": "cc9fc078-8354-4bef-9030-19b8234e38ba",
   "metadata": {},
   "outputs": [],
   "source": [
    "## merge data sets\n",
    "\n",
    "merged_data = df.merge(df_department, on='department_id', indicator = True)"
   ]
  },
  {
   "cell_type": "code",
   "execution_count": 9,
   "id": "ee640687-dc85-4798-b7fe-0c04b6c866ac",
   "metadata": {},
   "outputs": [
    {
     "data": {
      "text/html": [
       "<div>\n",
       "<style scoped>\n",
       "    .dataframe tbody tr th:only-of-type {\n",
       "        vertical-align: middle;\n",
       "    }\n",
       "\n",
       "    .dataframe tbody tr th {\n",
       "        vertical-align: top;\n",
       "    }\n",
       "\n",
       "    .dataframe thead th {\n",
       "        text-align: right;\n",
       "    }\n",
       "</style>\n",
       "<table border=\"1\" class=\"dataframe\">\n",
       "  <thead>\n",
       "    <tr style=\"text-align: right;\">\n",
       "      <th></th>\n",
       "      <th>product_id</th>\n",
       "      <th>product_name</th>\n",
       "      <th>department_id</th>\n",
       "      <th>prices</th>\n",
       "      <th>order_id</th>\n",
       "      <th>user_id</th>\n",
       "      <th>order_number</th>\n",
       "      <th>orders_day_of_week</th>\n",
       "      <th>order_hour_of_day</th>\n",
       "      <th>days_since_prior_order</th>\n",
       "      <th>...</th>\n",
       "      <th>n_dependants</th>\n",
       "      <th>marital_status</th>\n",
       "      <th>income</th>\n",
       "      <th>region</th>\n",
       "      <th>exclusion_flag</th>\n",
       "      <th>age_group</th>\n",
       "      <th>income_group</th>\n",
       "      <th>dependants_flag</th>\n",
       "      <th>department</th>\n",
       "      <th>_merge</th>\n",
       "    </tr>\n",
       "  </thead>\n",
       "  <tbody>\n",
       "    <tr>\n",
       "      <th>0</th>\n",
       "      <td>1</td>\n",
       "      <td>Chocolate Sandwich Cookies</td>\n",
       "      <td>19</td>\n",
       "      <td>5.8</td>\n",
       "      <td>3139998</td>\n",
       "      <td>138</td>\n",
       "      <td>28</td>\n",
       "      <td>6</td>\n",
       "      <td>11</td>\n",
       "      <td>3.0</td>\n",
       "      <td>...</td>\n",
       "      <td>1</td>\n",
       "      <td>married</td>\n",
       "      <td>49620</td>\n",
       "      <td>midwest</td>\n",
       "      <td>include</td>\n",
       "      <td>senior</td>\n",
       "      <td>low_income</td>\n",
       "      <td>has dependants</td>\n",
       "      <td>snacks</td>\n",
       "      <td>both</td>\n",
       "    </tr>\n",
       "    <tr>\n",
       "      <th>1</th>\n",
       "      <td>1</td>\n",
       "      <td>Chocolate Sandwich Cookies</td>\n",
       "      <td>19</td>\n",
       "      <td>5.8</td>\n",
       "      <td>1977647</td>\n",
       "      <td>138</td>\n",
       "      <td>30</td>\n",
       "      <td>6</td>\n",
       "      <td>17</td>\n",
       "      <td>20.0</td>\n",
       "      <td>...</td>\n",
       "      <td>1</td>\n",
       "      <td>married</td>\n",
       "      <td>49620</td>\n",
       "      <td>midwest</td>\n",
       "      <td>include</td>\n",
       "      <td>senior</td>\n",
       "      <td>low_income</td>\n",
       "      <td>has dependants</td>\n",
       "      <td>snacks</td>\n",
       "      <td>both</td>\n",
       "    </tr>\n",
       "    <tr>\n",
       "      <th>2</th>\n",
       "      <td>1</td>\n",
       "      <td>Chocolate Sandwich Cookies</td>\n",
       "      <td>19</td>\n",
       "      <td>5.8</td>\n",
       "      <td>389851</td>\n",
       "      <td>709</td>\n",
       "      <td>2</td>\n",
       "      <td>0</td>\n",
       "      <td>21</td>\n",
       "      <td>6.0</td>\n",
       "      <td>...</td>\n",
       "      <td>2</td>\n",
       "      <td>married</td>\n",
       "      <td>158302</td>\n",
       "      <td>northeast</td>\n",
       "      <td>include</td>\n",
       "      <td>senior</td>\n",
       "      <td>high_income</td>\n",
       "      <td>has dependants</td>\n",
       "      <td>snacks</td>\n",
       "      <td>both</td>\n",
       "    </tr>\n",
       "    <tr>\n",
       "      <th>3</th>\n",
       "      <td>1</td>\n",
       "      <td>Chocolate Sandwich Cookies</td>\n",
       "      <td>19</td>\n",
       "      <td>5.8</td>\n",
       "      <td>1701441</td>\n",
       "      <td>777</td>\n",
       "      <td>16</td>\n",
       "      <td>1</td>\n",
       "      <td>7</td>\n",
       "      <td>26.0</td>\n",
       "      <td>...</td>\n",
       "      <td>2</td>\n",
       "      <td>married</td>\n",
       "      <td>57797</td>\n",
       "      <td>west</td>\n",
       "      <td>include</td>\n",
       "      <td>middle_aged</td>\n",
       "      <td>middle_income</td>\n",
       "      <td>has dependants</td>\n",
       "      <td>snacks</td>\n",
       "      <td>both</td>\n",
       "    </tr>\n",
       "    <tr>\n",
       "      <th>4</th>\n",
       "      <td>1</td>\n",
       "      <td>Chocolate Sandwich Cookies</td>\n",
       "      <td>19</td>\n",
       "      <td>5.8</td>\n",
       "      <td>1871483</td>\n",
       "      <td>825</td>\n",
       "      <td>3</td>\n",
       "      <td>2</td>\n",
       "      <td>14</td>\n",
       "      <td>30.0</td>\n",
       "      <td>...</td>\n",
       "      <td>3</td>\n",
       "      <td>living with parents and siblings</td>\n",
       "      <td>34171</td>\n",
       "      <td>south</td>\n",
       "      <td>include</td>\n",
       "      <td>young_adult</td>\n",
       "      <td>low_income</td>\n",
       "      <td>has dependants</td>\n",
       "      <td>snacks</td>\n",
       "      <td>both</td>\n",
       "    </tr>\n",
       "  </tbody>\n",
       "</table>\n",
       "<p>5 rows × 32 columns</p>\n",
       "</div>"
      ],
      "text/plain": [
       "   product_id                product_name  department_id  prices  order_id  \\\n",
       "0           1  Chocolate Sandwich Cookies             19     5.8   3139998   \n",
       "1           1  Chocolate Sandwich Cookies             19     5.8   1977647   \n",
       "2           1  Chocolate Sandwich Cookies             19     5.8    389851   \n",
       "3           1  Chocolate Sandwich Cookies             19     5.8   1701441   \n",
       "4           1  Chocolate Sandwich Cookies             19     5.8   1871483   \n",
       "\n",
       "  user_id  order_number  orders_day_of_week  order_hour_of_day  \\\n",
       "0     138            28                   6                 11   \n",
       "1     138            30                   6                 17   \n",
       "2     709             2                   0                 21   \n",
       "3     777            16                   1                  7   \n",
       "4     825             3                   2                 14   \n",
       "\n",
       "   days_since_prior_order  ...  n_dependants  \\\n",
       "0                     3.0  ...             1   \n",
       "1                    20.0  ...             1   \n",
       "2                     6.0  ...             2   \n",
       "3                    26.0  ...             2   \n",
       "4                    30.0  ...             3   \n",
       "\n",
       "                     marital_status  income     region exclusion_flag  \\\n",
       "0                           married   49620    midwest        include   \n",
       "1                           married   49620    midwest        include   \n",
       "2                           married  158302  northeast        include   \n",
       "3                           married   57797       west        include   \n",
       "4  living with parents and siblings   34171      south        include   \n",
       "\n",
       "     age_group   income_group dependants_flag department _merge  \n",
       "0       senior     low_income  has dependants     snacks   both  \n",
       "1       senior     low_income  has dependants     snacks   both  \n",
       "2       senior    high_income  has dependants     snacks   both  \n",
       "3  middle_aged  middle_income  has dependants     snacks   both  \n",
       "4  young_adult     low_income  has dependants     snacks   both  \n",
       "\n",
       "[5 rows x 32 columns]"
      ]
     },
     "execution_count": 9,
     "metadata": {},
     "output_type": "execute_result"
    }
   ],
   "source": [
    "merged_data.head()"
   ]
  },
  {
   "cell_type": "code",
   "execution_count": 10,
   "id": "162bcc26-a7ec-440f-9a7d-851b32c581a2",
   "metadata": {},
   "outputs": [
    {
     "data": {
      "text/plain": [
       "(30959687, 32)"
      ]
     },
     "execution_count": 10,
     "metadata": {},
     "output_type": "execute_result"
    }
   ],
   "source": [
    "merged_data.shape"
   ]
  },
  {
   "cell_type": "code",
   "execution_count": 11,
   "id": "dd455aa4-7634-4612-b797-bb0af7b7c3a8",
   "metadata": {},
   "outputs": [
    {
     "data": {
      "text/plain": [
       "_merge\n",
       "both          30959687\n",
       "left_only            0\n",
       "right_only           0\n",
       "Name: count, dtype: int64"
      ]
     },
     "execution_count": 11,
     "metadata": {},
     "output_type": "execute_result"
    }
   ],
   "source": [
    "merged_data['_merge'].value_counts(dropna = False)"
   ]
  },
  {
   "cell_type": "code",
   "execution_count": 12,
   "id": "98135dcb-0d35-470f-8dd3-d9cfa19bf33d",
   "metadata": {},
   "outputs": [
    {
     "data": {
      "text/plain": [
       "Index(['product_id', 'product_name', 'department_id', 'prices', 'order_id',\n",
       "       'user_id', 'order_number', 'orders_day_of_week', 'order_hour_of_day',\n",
       "       'days_since_prior_order', 'reordered', 'price_range_loc', 'busiest_day',\n",
       "       'busiest_days', 'busiest_period_of_day', 'loyalty_flag',\n",
       "       'spending_flag', 'order_frequency_flag', 'Gender', 'State', 'Age',\n",
       "       'date_joined', 'n_dependants', 'marital_status', 'income', 'region',\n",
       "       'exclusion_flag', 'age_group', 'income_group', 'dependants_flag',\n",
       "       'department', '_merge'],\n",
       "      dtype='object')"
      ]
     },
     "execution_count": 12,
     "metadata": {},
     "output_type": "execute_result"
    }
   ],
   "source": [
    "merged_data.columns"
   ]
  },
  {
   "cell_type": "code",
   "execution_count": 13,
   "id": "6a59cc86-264f-4dc2-b25e-c69b9a4767be",
   "metadata": {},
   "outputs": [],
   "source": [
    "##export data\n",
    "\n",
    "merged_data.to_pickle(os.path.join(path,'02 Data', 'Prepared Data', 'final_merged.pkl'))"
   ]
  },
  {
   "cell_type": "code",
   "execution_count": 14,
   "id": "abeac009-9ae9-48ea-b9c1-343cd4ea85f8",
   "metadata": {},
   "outputs": [],
   "source": [
    "## now that the data frames are merged we are able to compare the profiles with region and departments\n",
    "## First we will compare regions with department"
   ]
  },
  {
   "cell_type": "code",
   "execution_count": 15,
   "id": "0163b56a-7dfb-4646-a1e8-16651eec04cc",
   "metadata": {},
   "outputs": [],
   "source": [
    "department_loyalty_flag = pd.crosstab(merged_data['department'], merged_data['loyalty_flag'], dropna = False)"
   ]
  },
  {
   "cell_type": "code",
   "execution_count": 16,
   "id": "dcb96ac3-5436-49d2-9221-a01f1e6f257e",
   "metadata": {},
   "outputs": [
    {
     "data": {
      "text/html": [
       "<div>\n",
       "<style scoped>\n",
       "    .dataframe tbody tr th:only-of-type {\n",
       "        vertical-align: middle;\n",
       "    }\n",
       "\n",
       "    .dataframe tbody tr th {\n",
       "        vertical-align: top;\n",
       "    }\n",
       "\n",
       "    .dataframe thead th {\n",
       "        text-align: right;\n",
       "    }\n",
       "</style>\n",
       "<table border=\"1\" class=\"dataframe\">\n",
       "  <thead>\n",
       "    <tr style=\"text-align: right;\">\n",
       "      <th>loyalty_flag</th>\n",
       "      <th>Loyal customer</th>\n",
       "      <th>New customer</th>\n",
       "      <th>Regular customer</th>\n",
       "    </tr>\n",
       "    <tr>\n",
       "      <th>department</th>\n",
       "      <th></th>\n",
       "      <th></th>\n",
       "      <th></th>\n",
       "    </tr>\n",
       "  </thead>\n",
       "  <tbody>\n",
       "    <tr>\n",
       "      <th>alcohol</th>\n",
       "      <td>38723</td>\n",
       "      <td>28629</td>\n",
       "      <td>77275</td>\n",
       "    </tr>\n",
       "    <tr>\n",
       "      <th>babies</th>\n",
       "      <td>167108</td>\n",
       "      <td>46708</td>\n",
       "      <td>196576</td>\n",
       "    </tr>\n",
       "    <tr>\n",
       "      <th>bakery</th>\n",
       "      <td>379873</td>\n",
       "      <td>172104</td>\n",
       "      <td>568851</td>\n",
       "    </tr>\n",
       "    <tr>\n",
       "      <th>beverages</th>\n",
       "      <td>855017</td>\n",
       "      <td>396649</td>\n",
       "      <td>1320235</td>\n",
       "    </tr>\n",
       "    <tr>\n",
       "      <th>breakfast</th>\n",
       "      <td>221577</td>\n",
       "      <td>106179</td>\n",
       "      <td>343094</td>\n",
       "    </tr>\n",
       "    <tr>\n",
       "      <th>bulk</th>\n",
       "      <td>13834</td>\n",
       "      <td>4149</td>\n",
       "      <td>15468</td>\n",
       "    </tr>\n",
       "    <tr>\n",
       "      <th>canned goods</th>\n",
       "      <td>294594</td>\n",
       "      <td>180196</td>\n",
       "      <td>537284</td>\n",
       "    </tr>\n",
       "    <tr>\n",
       "      <th>dairy eggs</th>\n",
       "      <td>1829377</td>\n",
       "      <td>749157</td>\n",
       "      <td>2593771</td>\n",
       "    </tr>\n",
       "    <tr>\n",
       "      <th>deli</th>\n",
       "      <td>324046</td>\n",
       "      <td>158335</td>\n",
       "      <td>521453</td>\n",
       "    </tr>\n",
       "    <tr>\n",
       "      <th>dry goods pasta</th>\n",
       "      <td>242580</td>\n",
       "      <td>144836</td>\n",
       "      <td>434720</td>\n",
       "    </tr>\n",
       "    <tr>\n",
       "      <th>frozen</th>\n",
       "      <td>609460</td>\n",
       "      <td>372271</td>\n",
       "      <td>1140000</td>\n",
       "    </tr>\n",
       "    <tr>\n",
       "      <th>household</th>\n",
       "      <td>196873</td>\n",
       "      <td>128117</td>\n",
       "      <td>374867</td>\n",
       "    </tr>\n",
       "    <tr>\n",
       "      <th>international</th>\n",
       "      <td>78394</td>\n",
       "      <td>43841</td>\n",
       "      <td>133756</td>\n",
       "    </tr>\n",
       "    <tr>\n",
       "      <th>meat seafood</th>\n",
       "      <td>202480</td>\n",
       "      <td>112464</td>\n",
       "      <td>359837</td>\n",
       "    </tr>\n",
       "    <tr>\n",
       "      <th>missing</th>\n",
       "      <td>18350</td>\n",
       "      <td>12713</td>\n",
       "      <td>33705</td>\n",
       "    </tr>\n",
       "    <tr>\n",
       "      <th>other</th>\n",
       "      <td>10715</td>\n",
       "      <td>5839</td>\n",
       "      <td>17857</td>\n",
       "    </tr>\n",
       "    <tr>\n",
       "      <th>pantry</th>\n",
       "      <td>560402</td>\n",
       "      <td>299576</td>\n",
       "      <td>922727</td>\n",
       "    </tr>\n",
       "    <tr>\n",
       "      <th>personal care</th>\n",
       "      <td>123365</td>\n",
       "      <td>75442</td>\n",
       "      <td>225499</td>\n",
       "    </tr>\n",
       "    <tr>\n",
       "      <th>pets</th>\n",
       "      <td>25469</td>\n",
       "      <td>15880</td>\n",
       "      <td>51711</td>\n",
       "    </tr>\n",
       "    <tr>\n",
       "      <th>produce</th>\n",
       "      <td>3147376</td>\n",
       "      <td>1336604</td>\n",
       "      <td>4595293</td>\n",
       "    </tr>\n",
       "    <tr>\n",
       "      <th>snacks</th>\n",
       "      <td>943150</td>\n",
       "      <td>413107</td>\n",
       "      <td>1410149</td>\n",
       "    </tr>\n",
       "  </tbody>\n",
       "</table>\n",
       "</div>"
      ],
      "text/plain": [
       "loyalty_flag     Loyal customer  New customer  Regular customer\n",
       "department                                                     \n",
       "alcohol                   38723         28629             77275\n",
       "babies                   167108         46708            196576\n",
       "bakery                   379873        172104            568851\n",
       "beverages                855017        396649           1320235\n",
       "breakfast                221577        106179            343094\n",
       "bulk                      13834          4149             15468\n",
       "canned goods             294594        180196            537284\n",
       "dairy eggs              1829377        749157           2593771\n",
       "deli                     324046        158335            521453\n",
       "dry goods pasta          242580        144836            434720\n",
       "frozen                   609460        372271           1140000\n",
       "household                196873        128117            374867\n",
       "international             78394         43841            133756\n",
       "meat seafood             202480        112464            359837\n",
       "missing                   18350         12713             33705\n",
       "other                     10715          5839             17857\n",
       "pantry                   560402        299576            922727\n",
       "personal care            123365         75442            225499\n",
       "pets                      25469         15880             51711\n",
       "produce                 3147376       1336604           4595293\n",
       "snacks                   943150        413107           1410149"
      ]
     },
     "execution_count": 16,
     "metadata": {},
     "output_type": "execute_result"
    }
   ],
   "source": [
    "department_loyalty_flag"
   ]
  },
  {
   "cell_type": "code",
   "execution_count": 17,
   "id": "7e33d915-64f4-4b51-9c3e-087a562ae212",
   "metadata": {},
   "outputs": [
    {
     "data": {
      "image/png": "[encoded data removed]",
      "text/plain": [
       "<Figure size 640x480 with 1 Axes>"
      ]
     },
     "metadata": {},
     "output_type": "display_data"
    }
   ],
   "source": [
    "## create a bar chart for the data to better be able to analyze it\n",
    "\n",
    "bar_department_loyalty_flag = department_loyalty_flag.plot.bar()"
   ]
  },
  {
   "cell_type": "code",
   "execution_count": 18,
   "id": "3d5c8cbb-8953-426e-898f-37467626c45c",
   "metadata": {},
   "outputs": [],
   "source": [
    "## This shows that regular customers seem to buy more of every item then loyal and new customers."
   ]
  },
  {
   "cell_type": "code",
   "execution_count": 19,
   "id": "6e955e06-fe60-4342-8653-a9c883cfbdeb",
   "metadata": {},
   "outputs": [],
   "source": [
    "## compare region with age group\n",
    "\n",
    "region_age_group = pd.crosstab(merged_data['region'], merged_data['age_group'], dropna = False)"
   ]
  },
  {
   "cell_type": "code",
   "execution_count": 20,
   "id": "d0f41e4a-0dd1-417d-a17d-95449c999a24",
   "metadata": {},
   "outputs": [
    {
     "data": {
      "text/html": [
       "<div>\n",
       "<style scoped>\n",
       "    .dataframe tbody tr th:only-of-type {\n",
       "        vertical-align: middle;\n",
       "    }\n",
       "\n",
       "    .dataframe tbody tr th {\n",
       "        vertical-align: top;\n",
       "    }\n",
       "\n",
       "    .dataframe thead th {\n",
       "        text-align: right;\n",
       "    }\n",
       "</style>\n",
       "<table border=\"1\" class=\"dataframe\">\n",
       "  <thead>\n",
       "    <tr style=\"text-align: right;\">\n",
       "      <th>age_group</th>\n",
       "      <th>middle_aged</th>\n",
       "      <th>senior</th>\n",
       "      <th>young_adult</th>\n",
       "    </tr>\n",
       "    <tr>\n",
       "      <th>region</th>\n",
       "      <th></th>\n",
       "      <th></th>\n",
       "      <th></th>\n",
       "    </tr>\n",
       "  </thead>\n",
       "  <tbody>\n",
       "    <tr>\n",
       "      <th>midwest</th>\n",
       "      <td>2322691</td>\n",
       "      <td>2455033</td>\n",
       "      <td>2482582</td>\n",
       "    </tr>\n",
       "    <tr>\n",
       "      <th>northeast</th>\n",
       "      <td>1708439</td>\n",
       "      <td>1883933</td>\n",
       "      <td>1871510</td>\n",
       "    </tr>\n",
       "    <tr>\n",
       "      <th>south</th>\n",
       "      <td>3180947</td>\n",
       "      <td>3520930</td>\n",
       "      <td>3607565</td>\n",
       "    </tr>\n",
       "    <tr>\n",
       "      <th>west</th>\n",
       "      <td>2511313</td>\n",
       "      <td>2712961</td>\n",
       "      <td>2701783</td>\n",
       "    </tr>\n",
       "  </tbody>\n",
       "</table>\n",
       "</div>"
      ],
      "text/plain": [
       "age_group  middle_aged   senior  young_adult\n",
       "region                                      \n",
       "midwest        2322691  2455033      2482582\n",
       "northeast      1708439  1883933      1871510\n",
       "south          3180947  3520930      3607565\n",
       "west           2511313  2712961      2701783"
      ]
     },
     "execution_count": 20,
     "metadata": {},
     "output_type": "execute_result"
    }
   ],
   "source": [
    "region_age_group"
   ]
  },
  {
   "cell_type": "code",
   "execution_count": 21,
   "id": "3d13b045-506e-40bc-94db-a46c5a8128a6",
   "metadata": {},
   "outputs": [
    {
     "data": {
      "image/png": "[encoded data removed]",
      "text/plain": [
       "<Figure size 640x480 with 1 Axes>"
      ]
     },
     "metadata": {},
     "output_type": "display_data"
    }
   ],
   "source": [
    "bar_region_age_group = region_age_group.plot.bar(rot=0)"
   ]
  },
  {
   "cell_type": "code",
   "execution_count": 22,
   "id": "7f48592f-9adf-4dc3-b63a-01dcfbf3f275",
   "metadata": {},
   "outputs": [],
   "source": [
    "## this shows that middle aged are usually lower then the other age groups. Also south has more counts then the other regions"
   ]
  },
  {
   "cell_type": "code",
   "execution_count": 23,
   "id": "036f077e-3456-4faf-ae3a-3b10f39af583",
   "metadata": {},
   "outputs": [],
   "source": [
    "## compare income group with region\n",
    "\n",
    "region_income_group = pd.crosstab(merged_data['region'], merged_data['income_group'], dropna = False)"
   ]
  },
  {
   "cell_type": "code",
   "execution_count": 24,
   "id": "a999f8c4-a14c-4816-a77b-a075fb84f760",
   "metadata": {},
   "outputs": [
    {
     "data": {
      "text/html": [
       "<div>\n",
       "<style scoped>\n",
       "    .dataframe tbody tr th:only-of-type {\n",
       "        vertical-align: middle;\n",
       "    }\n",
       "\n",
       "    .dataframe tbody tr th {\n",
       "        vertical-align: top;\n",
       "    }\n",
       "\n",
       "    .dataframe thead th {\n",
       "        text-align: right;\n",
       "    }\n",
       "</style>\n",
       "<table border=\"1\" class=\"dataframe\">\n",
       "  <thead>\n",
       "    <tr style=\"text-align: right;\">\n",
       "      <th>income_group</th>\n",
       "      <th>high_income</th>\n",
       "      <th>low_income</th>\n",
       "      <th>middle_income</th>\n",
       "    </tr>\n",
       "    <tr>\n",
       "      <th>region</th>\n",
       "      <th></th>\n",
       "      <th></th>\n",
       "      <th></th>\n",
       "    </tr>\n",
       "  </thead>\n",
       "  <tbody>\n",
       "    <tr>\n",
       "      <th>midwest</th>\n",
       "      <td>3398974</td>\n",
       "      <td>783764</td>\n",
       "      <td>3077568</td>\n",
       "    </tr>\n",
       "    <tr>\n",
       "      <th>northeast</th>\n",
       "      <td>2515715</td>\n",
       "      <td>587137</td>\n",
       "      <td>2361030</td>\n",
       "    </tr>\n",
       "    <tr>\n",
       "      <th>south</th>\n",
       "      <td>4662331</td>\n",
       "      <td>1142572</td>\n",
       "      <td>4504539</td>\n",
       "    </tr>\n",
       "    <tr>\n",
       "      <th>west</th>\n",
       "      <td>3625768</td>\n",
       "      <td>849081</td>\n",
       "      <td>3451208</td>\n",
       "    </tr>\n",
       "  </tbody>\n",
       "</table>\n",
       "</div>"
      ],
      "text/plain": [
       "income_group  high_income  low_income  middle_income\n",
       "region                                              \n",
       "midwest           3398974      783764        3077568\n",
       "northeast         2515715      587137        2361030\n",
       "south             4662331     1142572        4504539\n",
       "west              3625768      849081        3451208"
      ]
     },
     "execution_count": 24,
     "metadata": {},
     "output_type": "execute_result"
    }
   ],
   "source": [
    "region_income_group"
   ]
  },
  {
   "cell_type": "code",
   "execution_count": 25,
   "id": "7d825f14-3f1e-4def-8a3f-6aebe1e1f795",
   "metadata": {},
   "outputs": [
    {
     "data": {
      "image/png": "[encoded data removed]",
      "text/plain": [
       "<Figure size 640x480 with 1 Axes>"
      ]
     },
     "metadata": {},
     "output_type": "display_data"
    }
   ],
   "source": [
    "bar_region_income_group = region_income_group.plot.bar(rot=0)"
   ]
  },
  {
   "cell_type": "code",
   "execution_count": 26,
   "id": "461e8b7b-9ae2-4932-9964-aad70433c277",
   "metadata": {},
   "outputs": [],
   "source": [
    "## this graph gives information about income groups within the different regions"
   ]
  },
  {
   "cell_type": "code",
   "execution_count": 27,
   "id": "874a71b4-0322-4104-9029-893d4b5012c8",
   "metadata": {},
   "outputs": [],
   "source": [
    "## export all of the visualizations\n",
    "\n",
    "bar_department_loyalty_flag.figure.savefig(os.path.join(path, '04 Analysis','Visualizations', 'bar_department_loyalty_flag.png'))"
   ]
  },
  {
   "cell_type": "code",
   "execution_count": 28,
   "id": "62f3989e-f1df-41c2-855f-fcea7af2e899",
   "metadata": {},
   "outputs": [],
   "source": [
    "bar_region_age_group.figure.savefig(os.path.join(path, '04 Analysis','Visualizations', 'bar_region_age_group.png'))"
   ]
  },
  {
   "cell_type": "code",
   "execution_count": 29,
   "id": "5f16f751-7ec1-4174-9a9a-939dd2679be4",
   "metadata": {},
   "outputs": [],
   "source": [
    "bar_region_income_group.figure.savefig(os.path.join(path, '04 Analysis','Visualizations', 'bar_region_income_group.png'))"
   ]
  },
  {
   "cell_type": "code",
   "execution_count": null,
   "id": "3a01e579-ff8f-4abc-900b-f9f9bfdfb750",
   "metadata": {},
   "outputs": [],
   "source": []
  }
 ],
 "metadata": {
  "kernelspec": {
   "display_name": "Python 3 (ipykernel)",
   "language": "python",
   "name": "python3"
  },
  "language_info": {
   "codemirror_mode": {
    "name": "ipython",
    "version": 3
   },
   "file_extension": ".py",
   "mimetype": "text/x-python",
   "name": "python",
   "nbconvert_exporter": "python",
   "pygments_lexer": "ipython3",
   "version": "3.11.7"
  }
 },
 "nbformat": 4,
 "nbformat_minor": 5
}
