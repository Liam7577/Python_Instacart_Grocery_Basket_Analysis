{
 "cells": [
  {
   "cell_type": "code",
   "execution_count": 2,
   "id": "c196b447-00d8-4dd3-a782-124e364a4bed",
   "metadata": {},
   "outputs": [],
   "source": [
    "import pandas as pd\n",
    "import numpy as np\n",
    "import os\n",
    "import matplotlib.pyplot as plt\n",
    "import seaborn as sns\n",
    "import scipy"
   ]
  },
  {
   "cell_type": "code",
   "execution_count": 3,
   "id": "780ccc54-da2a-41c7-a82b-e029cfe9a7f1",
   "metadata": {},
   "outputs": [],
   "source": [
    "path = '/Users/liamanderson/Desktop/Instacart Basket Analysis'"
   ]
  },
  {
   "cell_type": "code",
   "execution_count": 4,
   "id": "23af274c-47e1-454a-b827-0eef3c1d6d73",
   "metadata": {},
   "outputs": [],
   "source": [
    "df_all = pd.read_pickle(os.path.join(path, '02 Data', 'Prepared Data', 'orders_products_customers_merged.pkl'))"
   ]
  },
  {
   "cell_type": "code",
   "execution_count": 5,
   "id": "e9a83477-99c0-4136-9eeb-afe72c31bda9",
   "metadata": {},
   "outputs": [],
   "source": [
    "crosstab = pd.crosstab(df_all['days_since_prior_order'], df_all['order_number'], dropna = False)"
   ]
  },
  {
   "cell_type": "code",
   "execution_count": 6,
   "id": "93c669f9-e4f8-4aa6-8483-2d742a18e386",
   "metadata": {},
   "outputs": [],
   "source": [
    "crosstab.to_clipboard()"
   ]
  },
  {
   "cell_type": "code",
   "execution_count": 7,
   "id": "0da42f1d-6774-4ab3-8f4b-7a4e4ebd8c4a",
   "metadata": {},
   "outputs": [
    {
     "data": {
      "text/plain": [
       "Index(['product_id', 'product_name', 'aisle_id', 'department_id', 'prices',\n",
       "       'order_id', 'user_id', 'order_number', 'orders_day_of_week',\n",
       "       'order_hour_of_day', 'days_since_prior_order', 'add_to_cart_order',\n",
       "       'reordered', 'price_range_loc', 'busiest_day', 'busiest_days',\n",
       "       'busiest_period_of_day', 'loyalty_flag', 'spending_flag',\n",
       "       'order_frequency_flag', 'First Name', 'Surname', 'Gender', 'State',\n",
       "       'Age', 'date_joined', 'n_dependants', 'marital_status', 'income',\n",
       "       '_merge'],\n",
       "      dtype='object')"
      ]
     },
     "execution_count": 7,
     "metadata": {},
     "output_type": "execute_result"
    }
   ],
   "source": [
    "# 2. \n",
    "## check for PII data\n",
    "\n",
    "df_all.columns"
   ]
  },
  {
   "cell_type": "code",
   "execution_count": 8,
   "id": "7559cdf7-7372-4183-9eeb-fe5d90260754",
   "metadata": {},
   "outputs": [],
   "source": [
    "## Some of the data has PII data. This included columns like First name, last name, gender, state, age, marital staus, and income."
   ]
  },
  {
   "cell_type": "code",
   "execution_count": 9,
   "id": "da654f75-5efb-46ba-9208-d41403ae9b56",
   "metadata": {},
   "outputs": [
    {
     "data": {
      "text/plain": [
       "State\n",
       "Pennsylvania            667082\n",
       "California              659783\n",
       "Rhode Island            656913\n",
       "Georgia                 656389\n",
       "New Mexico              654494\n",
       "Arizona                 653964\n",
       "North Carolina          651900\n",
       "Oklahoma                651739\n",
       "Alaska                  648495\n",
       "Minnesota               647825\n",
       "Massachusetts           646358\n",
       "Wyoming                 644255\n",
       "Virginia                641421\n",
       "Missouri                640732\n",
       "Texas                   640394\n",
       "Colorado                639280\n",
       "Maine                   638583\n",
       "North Dakota            638491\n",
       "Alabama                 638003\n",
       "Kansas                  637538\n",
       "Louisiana               637482\n",
       "Delaware                637024\n",
       "South Carolina          636754\n",
       "Oregon                  636425\n",
       "Arkansas                636144\n",
       "Nevada                  636139\n",
       "New York                635983\n",
       "Montana                 635265\n",
       "South Dakota            633772\n",
       "Illinois                633024\n",
       "Hawaii                  632901\n",
       "Washington              632852\n",
       "Mississippi             632675\n",
       "Kentucky                632490\n",
       "Michigan                630928\n",
       "Florida                 629027\n",
       "Ohio                    628319\n",
       "Wisconsin               628108\n",
       "New Jersey              627692\n",
       "Indiana                 627282\n",
       "Maryland                626579\n",
       "Nebraska                625813\n",
       "Iowa                    625493\n",
       "Connecticut             623022\n",
       "Tennessee               617873\n",
       "New Hampshire           615378\n",
       "District of Columbia    613695\n",
       "West Virginia           612296\n",
       "Utah                    611941\n",
       "Vermont                 611725\n",
       "Idaho                   607119\n",
       "Name: count, dtype: int64"
      ]
     },
     "execution_count": 9,
     "metadata": {},
     "output_type": "execute_result"
    }
   ],
   "source": [
    "# 3.\n",
    "## create regions based off the states\n",
    "\n",
    "df_all['State'].value_counts(dropna = False)"
   ]
  },
  {
   "cell_type": "code",
   "execution_count": 10,
   "id": "f694fc71-22d4-4373-b77c-8bbbd04ad093",
   "metadata": {},
   "outputs": [],
   "source": [
    "## Create variables for each of the regions\n",
    "\n",
    "northeast = ['Maine', 'New Hampshire', 'Vermont', 'Massachusetts', 'Rhode Island', 'Connecticut', 'New York', 'Pennsylvania', 'New Jersey']"
   ]
  },
  {
   "cell_type": "code",
   "execution_count": 11,
   "id": "6c2500f5-8c8c-4e89-ac8b-e97b20f4eeab",
   "metadata": {},
   "outputs": [],
   "source": [
    "midwest = ['Wisconsin', 'Michigan', 'Illinois', 'Indiana', 'Ohio', 'North Dakota', 'South Dakota', 'Nebraska', 'Kansas', 'Minnesota', 'Iowa', 'Missouri']"
   ]
  },
  {
   "cell_type": "code",
   "execution_count": 12,
   "id": "106815af-4e43-47ee-9c84-33f441e88c8a",
   "metadata": {},
   "outputs": [],
   "source": [
    "south = ['Delaware', 'Maryland', 'District of Columbia', 'Virginia', 'West Virginia', 'North Carolina', 'South Carolina', 'Georgia', 'Florida', 'Kentucky', 'Tennessee', 'Mississippi', 'Alabama', 'Oklahoma', 'Texas', 'Arkansas', 'Louisiana']"
   ]
  },
  {
   "cell_type": "code",
   "execution_count": 13,
   "id": "ab9a8c66-4bde-4af2-8a21-179e7b8d9996",
   "metadata": {},
   "outputs": [],
   "source": [
    "west = ['Idaho', 'Montana', 'Wyoming', 'Nevada', 'Utah', 'Colorado', 'Arizona', 'New Mexico', 'Alaska', 'Washington', 'Oregon', 'California', 'Hawaii']"
   ]
  },
  {
   "cell_type": "code",
   "execution_count": 14,
   "id": "76dfc315-f7bf-4ad8-8098-fd6313e54e49",
   "metadata": {},
   "outputs": [],
   "source": [
    "## create columns with the new region variables\n",
    "\n",
    "df_all.loc[df_all['State'].isin(northeast), 'region'] = 'northeast'"
   ]
  },
  {
   "cell_type": "code",
   "execution_count": 15,
   "id": "9485ee7d-ea6a-498e-b504-77f95bd56299",
   "metadata": {},
   "outputs": [],
   "source": [
    "df_all.loc[df_all['State'].isin(midwest), 'region'] = 'midwest'"
   ]
  },
  {
   "cell_type": "code",
   "execution_count": 16,
   "id": "28c0383f-811a-4eba-ae94-758aa3b88dee",
   "metadata": {},
   "outputs": [],
   "source": [
    "df_all.loc[df_all['State'].isin(south), 'region'] = 'south'"
   ]
  },
  {
   "cell_type": "code",
   "execution_count": 17,
   "id": "28ee8587-776f-4dbf-be9a-c7cc77c9983c",
   "metadata": {},
   "outputs": [],
   "source": [
    "df_all.loc[df_all['State'].isin(west), 'region'] = 'west'"
   ]
  },
  {
   "cell_type": "code",
   "execution_count": 18,
   "id": "94a228d6-1ddc-4d2f-9f6e-90e8ec53fbcb",
   "metadata": {},
   "outputs": [
    {
     "data": {
      "text/plain": [
       "32404859"
      ]
     },
     "execution_count": 18,
     "metadata": {},
     "output_type": "execute_result"
    }
   ],
   "source": [
    "## check data set to see if it worked\n",
    "\n",
    "len(df_all['region'])"
   ]
  },
  {
   "cell_type": "code",
   "execution_count": 19,
   "id": "439020eb-50d6-4bed-b40b-464bb8723a7c",
   "metadata": {},
   "outputs": [
    {
     "data": {
      "text/plain": [
       "Index(['product_id', 'product_name', 'aisle_id', 'department_id', 'prices',\n",
       "       'order_id', 'user_id', 'order_number', 'orders_day_of_week',\n",
       "       'order_hour_of_day', 'days_since_prior_order', 'add_to_cart_order',\n",
       "       'reordered', 'price_range_loc', 'busiest_day', 'busiest_days',\n",
       "       'busiest_period_of_day', 'loyalty_flag', 'spending_flag',\n",
       "       'order_frequency_flag', 'First Name', 'Surname', 'Gender', 'State',\n",
       "       'Age', 'date_joined', 'n_dependants', 'marital_status', 'income',\n",
       "       '_merge', 'region'],\n",
       "      dtype='object')"
      ]
     },
     "execution_count": 19,
     "metadata": {},
     "output_type": "execute_result"
    }
   ],
   "source": [
    "df_all.columns"
   ]
  },
  {
   "cell_type": "code",
   "execution_count": 20,
   "id": "83f97ba4-dbdd-4039-8e1e-dfe97a3c9458",
   "metadata": {},
   "outputs": [
    {
     "data": {
      "text/plain": [
       "region\n",
       "south        10791885\n",
       "west          8292913\n",
       "midwest       7597325\n",
       "northeast     5722736\n",
       "Name: count, dtype: int64"
      ]
     },
     "execution_count": 20,
     "metadata": {},
     "output_type": "execute_result"
    }
   ],
   "source": [
    "df_all['region'].value_counts(dropna = False)"
   ]
  },
  {
   "cell_type": "code",
   "execution_count": 21,
   "id": "c66f06a5-0f8e-4c29-a936-4a54c860f00a",
   "metadata": {},
   "outputs": [],
   "source": [
    "## check if there is a difference in spending habits using region and spending flag\n",
    "\n",
    "region_spending_crosstab = pd.crosstab(df_all['region'], df_all['spending_flag'], dropna = False)"
   ]
  },
  {
   "cell_type": "code",
   "execution_count": 22,
   "id": "d60678fe-e562-4669-a01e-db7b2df6a025",
   "metadata": {},
   "outputs": [
    {
     "data": {
      "text/html": [
       "<div>\n",
       "<style scoped>\n",
       "    .dataframe tbody tr th:only-of-type {\n",
       "        vertical-align: middle;\n",
       "    }\n",
       "\n",
       "    .dataframe tbody tr th {\n",
       "        vertical-align: top;\n",
       "    }\n",
       "\n",
       "    .dataframe thead th {\n",
       "        text-align: right;\n",
       "    }\n",
       "</style>\n",
       "<table border=\"1\" class=\"dataframe\">\n",
       "  <thead>\n",
       "    <tr style=\"text-align: right;\">\n",
       "      <th>spending_flag</th>\n",
       "      <th>High spender</th>\n",
       "      <th>Low spender</th>\n",
       "    </tr>\n",
       "    <tr>\n",
       "      <th>region</th>\n",
       "      <th></th>\n",
       "      <th></th>\n",
       "    </tr>\n",
       "  </thead>\n",
       "  <tbody>\n",
       "    <tr>\n",
       "      <th>midwest</th>\n",
       "      <td>155975</td>\n",
       "      <td>7441350</td>\n",
       "    </tr>\n",
       "    <tr>\n",
       "      <th>northeast</th>\n",
       "      <td>108225</td>\n",
       "      <td>5614511</td>\n",
       "    </tr>\n",
       "    <tr>\n",
       "      <th>south</th>\n",
       "      <td>209691</td>\n",
       "      <td>10582194</td>\n",
       "    </tr>\n",
       "    <tr>\n",
       "      <th>west</th>\n",
       "      <td>160354</td>\n",
       "      <td>8132559</td>\n",
       "    </tr>\n",
       "  </tbody>\n",
       "</table>\n",
       "</div>"
      ],
      "text/plain": [
       "spending_flag  High spender  Low spender\n",
       "region                                  \n",
       "midwest              155975      7441350\n",
       "northeast            108225      5614511\n",
       "south                209691     10582194\n",
       "west                 160354      8132559"
      ]
     },
     "execution_count": 22,
     "metadata": {},
     "output_type": "execute_result"
    }
   ],
   "source": [
    "region_spending_crosstab"
   ]
  },
  {
   "cell_type": "code",
   "execution_count": 23,
   "id": "73f71d8a-bfc1-4cfe-9b7f-7166d74f94f0",
   "metadata": {},
   "outputs": [
    {
     "data": {
      "text/plain": [
       "region\n",
       "midwest      0.020530\n",
       "northeast    0.018911\n",
       "south        0.019430\n",
       "west         0.019336\n",
       "dtype: float64"
      ]
     },
     "execution_count": 23,
     "metadata": {},
     "output_type": "execute_result"
    }
   ],
   "source": [
    "## Figure out how much of each region is high spender\n",
    "\n",
    "region_spending_crosstab['High spender'] / (region_spending_crosstab['Low spender'] + region_spending_crosstab['High spender'])"
   ]
  },
  {
   "cell_type": "code",
   "execution_count": 24,
   "id": "b629313e-db06-48a1-98e9-56bd9b9f66d9",
   "metadata": {},
   "outputs": [],
   "source": [
    "## The ratio of high spender to low spender is very similar among regions"
   ]
  },
  {
   "cell_type": "code",
   "execution_count": 25,
   "id": "82897da6-55d1-4449-aa2e-9ccaa4ddcf1f",
   "metadata": {},
   "outputs": [
    {
     "name": "stderr",
     "output_type": "stream",
     "text": [
      "/var/folders/f5/4n0d4d_s69sg2_b5f8nxqp200000gn/T/ipykernel_60498/2282647306.py:3: FutureWarning: The provided callable <function max at 0x10e2b1a80> is currently using SeriesGroupBy.max. In a future version of pandas, the provided callable will be used directly. To keep current behavior pass the string \"max\" instead.\n",
      "  df_all['max_order'] = df_all.groupby(['user_id'])['order_number'].transform(np.max)\n"
     ]
    }
   ],
   "source": [
    "## 4. add a max order column\n",
    "\n",
    "df_all['max_order'] = df_all.groupby(['user_id'])['order_number'].transform(np.max)"
   ]
  },
  {
   "cell_type": "code",
   "execution_count": 26,
   "id": "ca7176bd-7f0b-40d4-8c13-c30a5b3cbb6e",
   "metadata": {},
   "outputs": [
    {
     "data": {
      "text/plain": [
       "0    32\n",
       "1    32\n",
       "2     5\n",
       "3     3\n",
       "4     3\n",
       "Name: max_order, dtype: int64"
      ]
     },
     "execution_count": 26,
     "metadata": {},
     "output_type": "execute_result"
    }
   ],
   "source": [
    "df_all['max_order'].head()"
   ]
  },
  {
   "cell_type": "code",
   "execution_count": 27,
   "id": "3cc2eb1b-838f-405d-b35e-3f4302f50c5e",
   "metadata": {},
   "outputs": [],
   "source": [
    "## creat new column that has exclusion flag\n",
    "\n",
    "df_all.loc[df_all['max_order'] < 5, 'exclusion_flag'] = 'exclude'"
   ]
  },
  {
   "cell_type": "code",
   "execution_count": 28,
   "id": "ab41bb5c-ff42-4319-9b85-a1c7193c9e49",
   "metadata": {},
   "outputs": [],
   "source": [
    "df_all.loc[df_all['max_order'] >= 5 , 'exclusion_flag'] = 'include'"
   ]
  },
  {
   "cell_type": "code",
   "execution_count": 29,
   "id": "86015c9a-893a-4e0f-ba8f-31c0d947a74a",
   "metadata": {},
   "outputs": [
    {
     "data": {
      "text/plain": [
       "0    include\n",
       "1    include\n",
       "2    include\n",
       "3    exclude\n",
       "4    exclude\n",
       "Name: exclusion_flag, dtype: object"
      ]
     },
     "execution_count": 29,
     "metadata": {},
     "output_type": "execute_result"
    }
   ],
   "source": [
    "## Check to make sure that column was added and then check value counts\n",
    "\n",
    "df_all['exclusion_flag'].head()"
   ]
  },
  {
   "cell_type": "code",
   "execution_count": 30,
   "id": "d212809d-fdd4-448d-bb24-e37febbebfe9",
   "metadata": {},
   "outputs": [
    {
     "data": {
      "text/plain": [
       "exclusion_flag\n",
       "include    30964564\n",
       "exclude     1440295\n",
       "Name: count, dtype: int64"
      ]
     },
     "execution_count": 30,
     "metadata": {},
     "output_type": "execute_result"
    }
   ],
   "source": [
    "df_all['exclusion_flag'].value_counts(dropna = False)"
   ]
  },
  {
   "cell_type": "code",
   "execution_count": 31,
   "id": "4fbcce89-82ad-43f1-a681-57e0b1ac17f9",
   "metadata": {},
   "outputs": [],
   "source": [
    "## Create new dataframe that only includes customers with 5 or more orders\n",
    "\n",
    "df_all_high_activity = df_all[df_all['exclusion_flag'] == 'include']"
   ]
  },
  {
   "cell_type": "code",
   "execution_count": 32,
   "id": "823ef7c0-f591-4991-aa21-932a58b6d509",
   "metadata": {},
   "outputs": [
    {
     "data": {
      "text/plain": [
       "exclusion_flag\n",
       "include    30964564\n",
       "Name: count, dtype: int64"
      ]
     },
     "execution_count": 32,
     "metadata": {},
     "output_type": "execute_result"
    }
   ],
   "source": [
    "df_all_high_activity['exclusion_flag'].value_counts(dropna = False)"
   ]
  },
  {
   "cell_type": "code",
   "execution_count": 33,
   "id": "5bd80c93-d49e-4ed4-998d-813b9e3feff4",
   "metadata": {},
   "outputs": [],
   "source": [
    "df_all_high_activity.to_pickle(os.path.join(path,'02 Data' , 'Prepared Data', '4.10_df_high_activity_customers.pkl'))"
   ]
  },
  {
   "cell_type": "code",
   "execution_count": 34,
   "id": "b6e2dc7e-6c21-428b-99a6-eefd488fd64a",
   "metadata": {},
   "outputs": [
    {
     "name": "stderr",
     "output_type": "stream",
     "text": [
      "/var/folders/f5/4n0d4d_s69sg2_b5f8nxqp200000gn/T/ipykernel_60498/2761210860.py:5: SettingWithCopyWarning: \n",
      "A value is trying to be set on a copy of a slice from a DataFrame.\n",
      "Try using .loc[row_indexer,col_indexer] = value instead\n",
      "\n",
      "See the caveats in the documentation: https://pandas.pydata.org/pandas-docs/stable/user_guide/indexing.html#returning-a-view-versus-a-copy\n",
      "  df_all_high_activity.loc[df_all_high_activity['Age']<=39, 'age_group']='young_adult'\n"
     ]
    }
   ],
   "source": [
    "# 5. \n",
    "## Create a profiling variable based on age\n",
    "## We are going to split up customers by age groups\n",
    "\n",
    "df_all_high_activity.loc[df_all_high_activity['Age']<=39, 'age_group']='young_adult'"
   ]
  },
  {
   "cell_type": "code",
   "execution_count": 35,
   "id": "e864b5a3-af52-431d-9ed9-1fccaff6bcef",
   "metadata": {},
   "outputs": [],
   "source": [
    "df_all_high_activity.loc[(df_all_high_activity['Age']>=40)&(df_all_high_activity['Age']<=59), 'age_group']='middle_aged'"
   ]
  },
  {
   "cell_type": "code",
   "execution_count": 36,
   "id": "24a3301e-caed-4502-ac09-da2a1cf29b50",
   "metadata": {},
   "outputs": [],
   "source": [
    "df_all_high_activity.loc[df_all_high_activity['Age']>=60, 'age_group']='senior'"
   ]
  },
  {
   "cell_type": "code",
   "execution_count": 37,
   "id": "d3287cbd-d844-4a90-afbe-b5c187fd0a78",
   "metadata": {},
   "outputs": [
    {
     "data": {
      "text/plain": [
       "age_group\n",
       "young_adult    10665110\n",
       "senior         10574504\n",
       "middle_aged     9724950\n",
       "Name: count, dtype: int64"
      ]
     },
     "execution_count": 37,
     "metadata": {},
     "output_type": "execute_result"
    }
   ],
   "source": [
    "df_all_high_activity['age_group'].value_counts(dropna = False)"
   ]
  },
  {
   "cell_type": "code",
   "execution_count": 38,
   "id": "116e8e34-dfc9-41c5-887e-07f30e356a36",
   "metadata": {},
   "outputs": [
    {
     "data": {
      "text/plain": [
       "0      49620\n",
       "1      49620\n",
       "2     158302\n",
       "5      57797\n",
       "6      34171\n",
       "7      44856\n",
       "8     153843\n",
       "9     153843\n",
       "10     42573\n",
       "11     32283\n",
       "Name: income, dtype: int64"
      ]
     },
     "execution_count": 38,
     "metadata": {},
     "output_type": "execute_result"
    }
   ],
   "source": [
    "##  create a profiling variable based on income\n",
    "\n",
    "df_all_high_activity['income'].head(10)"
   ]
  },
  {
   "cell_type": "code",
   "execution_count": 39,
   "id": "bfdf0866-1b74-4cd7-b96d-5989f7dfc87f",
   "metadata": {},
   "outputs": [
    {
     "name": "stderr",
     "output_type": "stream",
     "text": [
      "/var/folders/f5/4n0d4d_s69sg2_b5f8nxqp200000gn/T/ipykernel_60498/1071717171.py:1: SettingWithCopyWarning: \n",
      "A value is trying to be set on a copy of a slice from a DataFrame.\n",
      "Try using .loc[row_indexer,col_indexer] = value instead\n",
      "\n",
      "See the caveats in the documentation: https://pandas.pydata.org/pandas-docs/stable/user_guide/indexing.html#returning-a-view-versus-a-copy\n",
      "  df_all_high_activity.loc[df_all_high_activity['income']<=49999, 'income_group']='low_income'\n"
     ]
    }
   ],
   "source": [
    "df_all_high_activity.loc[df_all_high_activity['income']<=49999, 'income_group']='low_income'"
   ]
  },
  {
   "cell_type": "code",
   "execution_count": 40,
   "id": "41245797-acd5-4449-ba4c-7d7a945ba82c",
   "metadata": {},
   "outputs": [],
   "source": [
    "df_all_high_activity.loc[(df_all_high_activity['income']>=50000)&(df_all_high_activity['income']<=99999), 'income_group']='middle_income'"
   ]
  },
  {
   "cell_type": "code",
   "execution_count": 41,
   "id": "65dea8ef-7381-4e2e-9db9-62c7e1328090",
   "metadata": {},
   "outputs": [],
   "source": [
    "df_all_high_activity.loc[df_all_high_activity['income']>=100000, 'income_group']='high_income'"
   ]
  },
  {
   "cell_type": "code",
   "execution_count": 42,
   "id": "8a6f7888-3cc5-4754-a943-5181df51fda1",
   "metadata": {},
   "outputs": [
    {
     "data": {
      "text/plain": [
       "income_group\n",
       "high_income      14207402\n",
       "middle_income    13394608\n",
       "low_income        3362554\n",
       "Name: count, dtype: int64"
      ]
     },
     "execution_count": 42,
     "metadata": {},
     "output_type": "execute_result"
    }
   ],
   "source": [
    "df_all_high_activity['income_group'].value_counts(dropna = False)"
   ]
  },
  {
   "cell_type": "code",
   "execution_count": 43,
   "id": "5079edef-a2fc-46d4-b71f-8f222b2c6bb3",
   "metadata": {},
   "outputs": [
    {
     "data": {
      "text/plain": [
       "n_dependants\n",
       "3    7772516\n",
       "0    7739681\n",
       "2    7733261\n",
       "1    7719106\n",
       "Name: count, dtype: int64"
      ]
     },
     "execution_count": 43,
     "metadata": {},
     "output_type": "execute_result"
    }
   ],
   "source": [
    "## create a profile based off of number of dependants\n",
    "\n",
    "df_all_high_activity['n_dependants'].value_counts(dropna = False)"
   ]
  },
  {
   "cell_type": "code",
   "execution_count": 44,
   "id": "d10193b1-731b-4817-9466-8685ff577066",
   "metadata": {},
   "outputs": [
    {
     "name": "stderr",
     "output_type": "stream",
     "text": [
      "/var/folders/f5/4n0d4d_s69sg2_b5f8nxqp200000gn/T/ipykernel_60498/472422937.py:3: SettingWithCopyWarning: \n",
      "A value is trying to be set on a copy of a slice from a DataFrame.\n",
      "Try using .loc[row_indexer,col_indexer] = value instead\n",
      "\n",
      "See the caveats in the documentation: https://pandas.pydata.org/pandas-docs/stable/user_guide/indexing.html#returning-a-view-versus-a-copy\n",
      "  df_all_high_activity.loc[df_all_high_activity['n_dependants']==0, 'dependants_flag'] = 'no dependants'\n"
     ]
    }
   ],
   "source": [
    "# make profile for people with and without dependants\n",
    "\n",
    "df_all_high_activity.loc[df_all_high_activity['n_dependants']==0, 'dependants_flag'] = 'no dependants'"
   ]
  },
  {
   "cell_type": "code",
   "execution_count": 45,
   "id": "27578ab8-ef19-47d5-bd17-fad2145b05a5",
   "metadata": {},
   "outputs": [],
   "source": [
    "df_all_high_activity.loc[df_all_high_activity['n_dependants']>=1, 'dependants_flag'] = 'has dependants'"
   ]
  },
  {
   "cell_type": "code",
   "execution_count": 46,
   "id": "7deedc37-953f-4b9d-845e-8d6a5d0323a8",
   "metadata": {},
   "outputs": [
    {
     "data": {
      "text/plain": [
       "dependants_flag\n",
       "has dependants    23224883\n",
       "no dependants      7739681\n",
       "Name: count, dtype: int64"
      ]
     },
     "execution_count": 46,
     "metadata": {},
     "output_type": "execute_result"
    }
   ],
   "source": [
    "df_all_high_activity['dependants_flag'].value_counts(dropna = False)"
   ]
  },
  {
   "cell_type": "code",
   "execution_count": 47,
   "id": "5548d00f-14da-4b0a-9e93-8259ea843ebe",
   "metadata": {},
   "outputs": [
    {
     "data": {
      "image/png": "[encoded data removed]",
      "text/plain": [
       "<Figure size 640x480 with 1 Axes>"
      ]
     },
     "metadata": {},
     "output_type": "display_data"
    }
   ],
   "source": [
    "# 6. \n",
    "## Create visualization for each of the profiles created\n",
    "## start with age profile\n",
    "\n",
    "age_group_value_counts = df_all_high_activity['age_group'].value_counts().plot.bar()"
   ]
  },
  {
   "cell_type": "code",
   "execution_count": 48,
   "id": "785e7df1-1226-42de-b5c5-b66a7f1c2197",
   "metadata": {},
   "outputs": [
    {
     "data": {
      "image/png": "[encoded data removed]",
      "text/plain": [
       "<Figure size 640x480 with 1 Axes>"
      ]
     },
     "metadata": {},
     "output_type": "display_data"
    }
   ],
   "source": [
    "## create bar chart for income groups\n",
    "\n",
    "income_group_value_counts = df_all_high_activity['income_group'].value_counts().plot.bar()"
   ]
  },
  {
   "cell_type": "code",
   "execution_count": 49,
   "id": "0c51c473-e725-4ecf-8a6b-8fe3b9ccc816",
   "metadata": {},
   "outputs": [
    {
     "data": {
      "image/png": "[encoded data removed]",
      "text/plain": [
       "<Figure size 640x480 with 1 Axes>"
      ]
     },
     "metadata": {},
     "output_type": "display_data"
    }
   ],
   "source": [
    "## create bar for number of dependants flag\n",
    "\n",
    "dependants_flag_value_counts = df_all_high_activity['dependants_flag'].value_counts().plot.bar()"
   ]
  },
  {
   "cell_type": "code",
   "execution_count": 50,
   "id": "1184f22a-7740-4b7a-a5c5-8284469ad31b",
   "metadata": {},
   "outputs": [],
   "source": [
    "## Export charts\n",
    "\n",
    "age_group_value_counts.figure.savefig(os.path.join(path, '04 Analysis','Visualizations', 'bar_age_group_value_counts.png'))"
   ]
  },
  {
   "cell_type": "code",
   "execution_count": 51,
   "id": "ecf7e649-e0aa-4883-b131-adabb06d3a83",
   "metadata": {},
   "outputs": [],
   "source": [
    "income_group_value_counts.figure.savefig(os.path.join(path, '04 Analysis','Visualizations', 'bar_income_group_value_counts.png'))"
   ]
  },
  {
   "cell_type": "code",
   "execution_count": 52,
   "id": "d5c3709f-7492-4c6b-b425-738d9315fb25",
   "metadata": {},
   "outputs": [],
   "source": [
    "dependants_flag_value_counts.figure.savefig(os.path.join(path, '04 Analysis','Visualizations', 'bar_dependants_flag_value_counts.png'))"
   ]
  },
  {
   "cell_type": "code",
   "execution_count": 54,
   "id": "ef8f546c-89e0-44c5-8ca0-c91f00c223c8",
   "metadata": {},
   "outputs": [],
   "source": [
    "## kernel breaks down so will create a new notebook. Export updated dataframe\n",
    "\n",
    "df_all_high_activity.to_pickle(os.path.join(path,'02 Data', 'Prepared Data', 'df_all_high_activity.pkl'))"
   ]
  },
  {
   "cell_type": "code",
   "execution_count": null,
   "id": "29e1f1dd-9912-4fac-a70a-f02fab58c632",
   "metadata": {},
   "outputs": [],
   "source": []
  }
 ],
 "metadata": {
  "kernelspec": {
   "display_name": "Python 3 (ipykernel)",
   "language": "python",
   "name": "python3"
  },
  "language_info": {
   "codemirror_mode": {
    "name": "ipython",
    "version": 3
   },
   "file_extension": ".py",
   "mimetype": "text/x-python",
   "name": "python",
   "nbconvert_exporter": "python",
   "pygments_lexer": "ipython3",
   "version": "3.11.7"
  }
 },
 "nbformat": 4,
 "nbformat_minor": 5
}
