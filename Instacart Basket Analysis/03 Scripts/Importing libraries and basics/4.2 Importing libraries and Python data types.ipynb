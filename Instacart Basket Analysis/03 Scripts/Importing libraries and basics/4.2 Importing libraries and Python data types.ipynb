{
 "cells": [
  {
   "cell_type": "markdown",
   "id": "079a8ed9-bf91-40dc-80b3-1bb4f3a5246b",
   "metadata": {},
   "source": [
    "#Importing libraries"
   ]
  },
  {
   "cell_type": "code",
   "execution_count": 2,
   "id": "1e3de9e0-28df-42a4-ab9d-a358275b1fe1",
   "metadata": {},
   "outputs": [],
   "source": [
    "# Import libraries\n",
    "import pandas as pd\n",
    "import numpy as np\n",
    "import os"
   ]
  },
  {
   "cell_type": "code",
   "execution_count": null,
   "id": "3b5b835f-d4aa-4e89-a224-dfb622bd6e0f",
   "metadata": {},
   "outputs": [],
   "source": [
    "# Python Data Types"
   ]
  },
  {
   "cell_type": "code",
   "execution_count": 46,
   "id": "350e135a-406b-4d49-9a33-40971caf9304",
   "metadata": {},
   "outputs": [],
   "source": [
    "a=30"
   ]
  },
  {
   "cell_type": "code",
   "execution_count": 48,
   "id": "d04e4da5-bbbb-4071-8995-85f2b1700341",
   "metadata": {},
   "outputs": [],
   "source": [
    "b=70"
   ]
  },
  {
   "cell_type": "code",
   "execution_count": 50,
   "id": "0be300ce-bcae-4a42-96f6-c6cefaaaa826",
   "metadata": {},
   "outputs": [
    {
     "data": {
      "text/plain": [
       "100"
      ]
     },
     "execution_count": 50,
     "metadata": {},
     "output_type": "execute_result"
    }
   ],
   "source": [
    "a+b"
   ]
  },
  {
   "cell_type": "code",
   "execution_count": 52,
   "id": "8bcfba34-f328-4ceb-bdc9-90f14fbceb7f",
   "metadata": {},
   "outputs": [],
   "source": [
    "c=130"
   ]
  },
  {
   "cell_type": "code",
   "execution_count": 54,
   "id": "e9846336-0b53-4166-98d9-4c05d24dab66",
   "metadata": {},
   "outputs": [
    {
     "data": {
      "text/plain": [
       "100"
      ]
     },
     "execution_count": 54,
     "metadata": {},
     "output_type": "execute_result"
    }
   ],
   "source": [
    "c-a"
   ]
  },
  {
   "cell_type": "code",
   "execution_count": 56,
   "id": "697de6a4-0de0-4b04-a029-b23250b51ba5",
   "metadata": {},
   "outputs": [],
   "source": [
    "d=60"
   ]
  },
  {
   "cell_type": "code",
   "execution_count": 58,
   "id": "57834237-f993-4f04-8aa6-12c06ba2c17b",
   "metadata": {},
   "outputs": [
    {
     "data": {
      "text/plain": [
       "100"
      ]
     },
     "execution_count": 58,
     "metadata": {},
     "output_type": "execute_result"
    }
   ],
   "source": [
    "a+c-d"
   ]
  },
  {
   "cell_type": "code",
   "execution_count": 60,
   "id": "c8848912-6fe3-4d06-9aed-fc73e489b6c0",
   "metadata": {},
   "outputs": [],
   "source": [
    "x=9.325"
   ]
  },
  {
   "cell_type": "code",
   "execution_count": 62,
   "id": "0db3b83a-4696-4bcd-865a-c913786891e3",
   "metadata": {},
   "outputs": [],
   "source": [
    "y=2.941"
   ]
  },
  {
   "cell_type": "code",
   "execution_count": 64,
   "id": "2e3bc284-92a4-4b23-8ffa-896c6d6f58bf",
   "metadata": {},
   "outputs": [
    {
     "data": {
      "text/plain": [
       "3.170690241414485"
      ]
     },
     "execution_count": 64,
     "metadata": {},
     "output_type": "execute_result"
    }
   ],
   "source": [
    "x/y"
   ]
  },
  {
   "cell_type": "code",
   "execution_count": 66,
   "id": "e2de0cb2-6b65-4b3d-b279-775b5378c1ca",
   "metadata": {},
   "outputs": [],
   "source": [
    "l='adi'"
   ]
  },
  {
   "cell_type": "code",
   "execution_count": 68,
   "id": "571fc768-5977-4fb2-a4d7-466297b7584a",
   "metadata": {},
   "outputs": [],
   "source": [
    "m='das'"
   ]
  },
  {
   "cell_type": "code",
   "execution_count": 70,
   "id": "e983f80e-f2d6-4dff-be9c-e7ae7b8ecc6f",
   "metadata": {},
   "outputs": [
    {
     "data": {
      "text/plain": [
       "'adidas'"
      ]
     },
     "execution_count": 70,
     "metadata": {},
     "output_type": "execute_result"
    }
   ],
   "source": [
    "l+m"
   ]
  },
  {
   "cell_type": "code",
   "execution_count": 72,
   "id": "ffddc185-f2ec-46ef-9ecc-551321aa930d",
   "metadata": {},
   "outputs": [],
   "source": [
    "n='How are you today? '"
   ]
  },
  {
   "cell_type": "code",
   "execution_count": 74,
   "id": "c09e479e-9908-4ea0-abdd-48d7bdf66c84",
   "metadata": {},
   "outputs": [],
   "source": [
    "o='Doing good. Thank you!'"
   ]
  },
  {
   "cell_type": "code",
   "execution_count": 76,
   "id": "e1ed51fa-9f36-455d-9a67-7b8eb643c7fb",
   "metadata": {},
   "outputs": [
    {
     "data": {
      "text/plain": [
       "'How are you today? Doing good. Thank you!'"
      ]
     },
     "execution_count": 76,
     "metadata": {},
     "output_type": "execute_result"
    }
   ],
   "source": [
    "n+o"
   ]
  },
  {
   "cell_type": "code",
   "execution_count": null,
   "id": "93bc507c-8ca0-4728-8684-c3022f2da8db",
   "metadata": {},
   "outputs": [],
   "source": []
  }
 ],
 "metadata": {
  "kernelspec": {
   "display_name": "Python 3 (ipykernel)",
   "language": "python",
   "name": "python3"
  },
  "language_info": {
   "codemirror_mode": {
    "name": "ipython",
    "version": 3
   },
   "file_extension": ".py",
   "mimetype": "text/x-python",
   "name": "python",
   "nbconvert_exporter": "python",
   "pygments_lexer": "ipython3",
   "version": "3.11.7"
  }
 },
 "nbformat": 4,
 "nbformat_minor": 5
}
