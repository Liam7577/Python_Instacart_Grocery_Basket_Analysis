{
 "cells": [
  {
   "cell_type": "code",
   "execution_count": 3,
   "id": "f0a73536-b46d-4c23-8f88-932caab3e7ef",
   "metadata": {},
   "outputs": [],
   "source": [
    "import pandas as pd\n",
    "import numpy as np\n",
    "import os\n",
    "import matplotlib.pyplot as plt\n",
    "import seaborn as sns\n",
    "import scipy"
   ]
  },
  {
   "cell_type": "code",
   "execution_count": 4,
   "id": "4200168b-e8ff-4e85-b893-dbbb4f29e43d",
   "metadata": {},
   "outputs": [],
   "source": [
    "path = '/Users/liamanderson/Desktop/Instacart Basket Analysis'"
   ]
  },
  {
   "cell_type": "code",
   "execution_count": 5,
   "id": "52cd5d63-d30d-4ca4-b0e5-0546218e1d16",
   "metadata": {},
   "outputs": [],
   "source": [
    "orders_data = pd.read_csv(os.path.join(path, '02 Data', 'Original Data', '4.3_orders_products' , 'orders.csv'))"
   ]
  },
  {
   "cell_type": "code",
   "execution_count": 6,
   "id": "c815215c-8d94-463f-abb0-acfe61274196",
   "metadata": {},
   "outputs": [
    {
     "data": {
      "text/plain": [
       "(3421083, 7)"
      ]
     },
     "execution_count": 6,
     "metadata": {},
     "output_type": "execute_result"
    }
   ],
   "source": [
    "orders_data.shape"
   ]
  },
  {
   "cell_type": "code",
   "execution_count": 7,
   "id": "d82b9618-b452-4320-8d62-9eef0bc8f498",
   "metadata": {},
   "outputs": [],
   "source": [
    "orders_products_prior_data = pd.read_csv(os.path.join(path, '02 Data', 'Original Data', 'orders_products_prior.csv'))"
   ]
  },
  {
   "cell_type": "code",
   "execution_count": 8,
   "id": "523208c6-a81a-41a2-9c23-692050097d57",
   "metadata": {},
   "outputs": [
    {
     "data": {
      "text/plain": [
       "(32434489, 4)"
      ]
     },
     "execution_count": 8,
     "metadata": {},
     "output_type": "execute_result"
    }
   ],
   "source": [
    "orders_products_prior_data.shape"
   ]
  },
  {
   "cell_type": "code",
   "execution_count": 9,
   "id": "3d9d9ee0-1ed4-466e-a815-c89572877fd9",
   "metadata": {},
   "outputs": [],
   "source": [
    "products_data = pd.read_csv(os.path.join(path, '02 Data', 'Original Data', '4.3_orders_products' , 'products.csv'))"
   ]
  },
  {
   "cell_type": "code",
   "execution_count": 10,
   "id": "325a2bd8-4285-4f81-beca-5f66e3f1c0d8",
   "metadata": {},
   "outputs": [
    {
     "data": {
      "text/plain": [
       "(49693, 5)"
      ]
     },
     "execution_count": 10,
     "metadata": {},
     "output_type": "execute_result"
    }
   ],
   "source": [
    "products_data.shape"
   ]
  },
  {
   "cell_type": "code",
   "execution_count": 11,
   "id": "4fe74538-4b07-4991-b818-eadeac45c2a5",
   "metadata": {},
   "outputs": [],
   "source": [
    "customers_data = pd.read_csv(os.path.join(path, '02 Data', 'Original Data', 'customers.csv'))"
   ]
  },
  {
   "cell_type": "code",
   "execution_count": 12,
   "id": "fb84ce0d-8dfd-4f8b-b8c2-861ce320cc6b",
   "metadata": {},
   "outputs": [
    {
     "data": {
      "text/plain": [
       "(206209, 10)"
      ]
     },
     "execution_count": 12,
     "metadata": {},
     "output_type": "execute_result"
    }
   ],
   "source": [
    "customers_data.shape"
   ]
  },
  {
   "cell_type": "code",
   "execution_count": 13,
   "id": "f49bc6d8-7e28-4e39-964b-d784bf0d7905",
   "metadata": {},
   "outputs": [],
   "source": [
    "orders_checked_data = pd.read_csv(os.path.join(path, '02 Data', 'Prepared Data', 'orders_checked.csv'))"
   ]
  },
  {
   "cell_type": "code",
   "execution_count": 14,
   "id": "24a813a8-dd12-445e-9558-3eed9af42bf5",
   "metadata": {},
   "outputs": [
    {
     "data": {
      "text/plain": [
       "(3421083, 8)"
      ]
     },
     "execution_count": 14,
     "metadata": {},
     "output_type": "execute_result"
    }
   ],
   "source": [
    "orders_checked_data.shape"
   ]
  },
  {
   "cell_type": "code",
   "execution_count": 15,
   "id": "bafc8fe8-1641-462b-a8d6-a8248540aa3a",
   "metadata": {},
   "outputs": [],
   "source": [
    "products_checked_data = pd.read_csv(os.path.join(path, '02 Data', 'Prepared Data', 'products_checked.csv'))"
   ]
  },
  {
   "cell_type": "code",
   "execution_count": 16,
   "id": "c962ab6c-a74f-4bd8-a623-eb3d1bc05d6b",
   "metadata": {},
   "outputs": [
    {
     "data": {
      "text/plain": [
       "(49672, 6)"
      ]
     },
     "execution_count": 16,
     "metadata": {},
     "output_type": "execute_result"
    }
   ],
   "source": [
    "products_checked_data.shape"
   ]
  },
  {
   "cell_type": "code",
   "execution_count": 17,
   "id": "40223375-1469-4261-b78a-54f7c3bff33a",
   "metadata": {},
   "outputs": [],
   "source": [
    "customers_checked_data = pd.read_pickle(os.path.join(path, '02 Data', 'Prepared Data', 'cleaned_df_cust.pkl'))"
   ]
  },
  {
   "cell_type": "code",
   "execution_count": 18,
   "id": "6656b858-5daf-4d02-a144-32a418d4d133",
   "metadata": {},
   "outputs": [
    {
     "data": {
      "text/plain": [
       "(206209, 10)"
      ]
     },
     "execution_count": 18,
     "metadata": {},
     "output_type": "execute_result"
    }
   ],
   "source": [
    "customers_checked_data.shape"
   ]
  },
  {
   "cell_type": "code",
   "execution_count": 19,
   "id": "13382786-f8bd-494c-889a-aa0b738b7dd5",
   "metadata": {},
   "outputs": [],
   "source": [
    "orders_products_merged_data = pd.read_pickle(os.path.join(path, '02 Data', 'Prepared Data', 'merged_all.pkl'))"
   ]
  },
  {
   "cell_type": "code",
   "execution_count": 20,
   "id": "76cc156f-99d1-4777-bd1d-7291565c3bae",
   "metadata": {},
   "outputs": [
    {
     "data": {
      "text/plain": [
       "(32404859, 14)"
      ]
     },
     "execution_count": 20,
     "metadata": {},
     "output_type": "execute_result"
    }
   ],
   "source": [
    "orders_products_merged_data.shape"
   ]
  },
  {
   "cell_type": "code",
   "execution_count": 21,
   "id": "17aec46a-ba31-4ac5-9aca-83afa30e350e",
   "metadata": {},
   "outputs": [],
   "source": [
    "merged_all_data = pd.read_pickle(os.path.join(path, '02 Data', 'Prepared Data', 'orders_products_customers_merged.pkl'))"
   ]
  },
  {
   "cell_type": "code",
   "execution_count": 22,
   "id": "d0cf2773-28c4-42a0-8bf7-03b559288814",
   "metadata": {},
   "outputs": [
    {
     "data": {
      "text/plain": [
       "(32404859, 30)"
      ]
     },
     "execution_count": 22,
     "metadata": {},
     "output_type": "execute_result"
    }
   ],
   "source": [
    "merged_all_data.shape"
   ]
  },
  {
   "cell_type": "code",
   "execution_count": 23,
   "id": "ffd52a20-87df-4d9e-9eee-173293b69cab",
   "metadata": {},
   "outputs": [
    {
     "data": {
      "text/plain": [
       "order_id             0\n",
       "product_id           0\n",
       "add_to_cart_order    0\n",
       "reordered            0\n",
       "dtype: int64"
      ]
     },
     "execution_count": 23,
     "metadata": {},
     "output_type": "execute_result"
    }
   ],
   "source": [
    "orders_products_prior_data.isnull().sum()"
   ]
  },
  {
   "cell_type": "code",
   "execution_count": 24,
   "id": "b3bd8a59-19f9-4c05-bc5e-e42c808671cf",
   "metadata": {},
   "outputs": [
    {
     "data": {
      "text/html": [
       "<div>\n",
       "<style scoped>\n",
       "    .dataframe tbody tr th:only-of-type {\n",
       "        vertical-align: middle;\n",
       "    }\n",
       "\n",
       "    .dataframe tbody tr th {\n",
       "        vertical-align: top;\n",
       "    }\n",
       "\n",
       "    .dataframe thead th {\n",
       "        text-align: right;\n",
       "    }\n",
       "</style>\n",
       "<table border=\"1\" class=\"dataframe\">\n",
       "  <thead>\n",
       "    <tr style=\"text-align: right;\">\n",
       "      <th></th>\n",
       "      <th>order_id</th>\n",
       "      <th>product_id</th>\n",
       "      <th>add_to_cart_order</th>\n",
       "      <th>reordered</th>\n",
       "    </tr>\n",
       "  </thead>\n",
       "  <tbody>\n",
       "  </tbody>\n",
       "</table>\n",
       "</div>"
      ],
      "text/plain": [
       "Empty DataFrame\n",
       "Columns: [order_id, product_id, add_to_cart_order, reordered]\n",
       "Index: []"
      ]
     },
     "execution_count": 24,
     "metadata": {},
     "output_type": "execute_result"
    }
   ],
   "source": [
    "orders_products_prior_data[orders_products_prior_data.duplicated()]"
   ]
  },
  {
   "cell_type": "code",
   "execution_count": 25,
   "id": "a3537437-1fa7-4d75-a7bb-3be58dc30330",
   "metadata": {},
   "outputs": [],
   "source": [
    "merged_all_derived_data = pd.read_pickle(os.path.join(path, '02 Data', 'Prepared Data', 'merged_all_derived.pkl'))"
   ]
  },
  {
   "cell_type": "code",
   "execution_count": null,
   "id": "8cdb04c5-799d-491b-86ad-cb13ca8e68b0",
   "metadata": {},
   "outputs": [],
   "source": []
  }
 ],
 "metadata": {
  "kernelspec": {
   "display_name": "Python 3 (ipykernel)",
   "language": "python",
   "name": "python3"
  },
  "language_info": {
   "codemirror_mode": {
    "name": "ipython",
    "version": 3
   },
   "file_extension": ".py",
   "mimetype": "text/x-python",
   "name": "python",
   "nbconvert_exporter": "python",
   "pygments_lexer": "ipython3",
   "version": "3.11.7"
  }
 },
 "nbformat": 4,
 "nbformat_minor": 5
}
